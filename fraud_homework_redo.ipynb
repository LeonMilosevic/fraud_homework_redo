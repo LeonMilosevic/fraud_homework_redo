{
  "nbformat": 4,
  "nbformat_minor": 0,
  "metadata": {
    "colab": {
      "name": "fraud_homework_redo",
      "provenance": [],
      "authorship_tag": "ABX9TyOjO+rVAcOOzFtejHK2pP1Q",
      "include_colab_link": true
    },
    "kernelspec": {
      "name": "python3",
      "display_name": "Python 3"
    },
    "language_info": {
      "name": "python"
    }
  },
  "cells": [
    {
      "cell_type": "markdown",
      "metadata": {
        "id": "view-in-github",
        "colab_type": "text"
      },
      "source": [
        "<a href=\"https://colab.research.google.com/github/LeonMilosevic/fraud_homework_redo/blob/main/fraud_homework_redo.ipynb\" target=\"_parent\"><img src=\"https://colab.research.google.com/assets/colab-badge.svg\" alt=\"Open In Colab\"/></a>"
      ]
    },
    {
      "cell_type": "markdown",
      "metadata": {
        "id": "53lv5OwEYQv2"
      },
      "source": [
        "# Concept of the Notebook"
      ]
    },
    {
      "cell_type": "markdown",
      "metadata": {
        "id": "nvLGjsjsYUhp"
      },
      "source": [
        "Notebook will consists out of 5 parts.\n",
        "\n",
        "1. Analysis\n",
        "  - Explore the dataset\n",
        "  - Find insights\n",
        "  - Draw conclusions\n",
        "  - Get ideas for feature engineering\n",
        "\n",
        "2. Base model\n",
        "  - We will create a base model and have a benchmark for the performence.\n",
        "\n",
        "3. Feature Engineering\n",
        "  - Improve the results and build upon discoveries from Analysis part.\n",
        "\n",
        "4. Modeling\n",
        "  - Model optimization, and performence tuning.\n",
        "  - Draw business conclusions\n",
        "\n",
        "5. Business presentation and final conclusions.\n",
        "  - We will make a conclusion, sum up all previous chapters, present our solution and advice on how to improve the business model of detecting fraudulent transactions."
      ]
    },
    {
      "cell_type": "markdown",
      "metadata": {
        "id": "25orqDOxaAwK"
      },
      "source": [
        "# Imports and libraries "
      ]
    },
    {
      "cell_type": "code",
      "metadata": {
        "id": "lEOf0P6DaMCJ",
        "colab": {
          "base_uri": "https://localhost:8080/"
        },
        "outputId": "cab3750e-8cb5-4a19-f570-cc734462c5a0"
      },
      "source": [
        "!pip install pgeocode\n",
        "!pip install folium\n",
        "!pip install pycountry\n",
        "!pip install beautifulsoup4"
      ],
      "execution_count": 1,
      "outputs": [
        {
          "output_type": "stream",
          "text": [
            "Requirement already satisfied: pgeocode in /usr/local/lib/python3.7/dist-packages (0.3.0)\n",
            "Requirement already satisfied: pandas in /usr/local/lib/python3.7/dist-packages (from pgeocode) (1.1.5)\n",
            "Requirement already satisfied: requests in /usr/local/lib/python3.7/dist-packages (from pgeocode) (2.23.0)\n",
            "Requirement already satisfied: numpy in /usr/local/lib/python3.7/dist-packages (from pgeocode) (1.19.5)\n",
            "Requirement already satisfied: python-dateutil>=2.7.3 in /usr/local/lib/python3.7/dist-packages (from pandas->pgeocode) (2.8.2)\n",
            "Requirement already satisfied: pytz>=2017.2 in /usr/local/lib/python3.7/dist-packages (from pandas->pgeocode) (2018.9)\n",
            "Requirement already satisfied: six>=1.5 in /usr/local/lib/python3.7/dist-packages (from python-dateutil>=2.7.3->pandas->pgeocode) (1.15.0)\n",
            "Requirement already satisfied: chardet<4,>=3.0.2 in /usr/local/lib/python3.7/dist-packages (from requests->pgeocode) (3.0.4)\n",
            "Requirement already satisfied: idna<3,>=2.5 in /usr/local/lib/python3.7/dist-packages (from requests->pgeocode) (2.10)\n",
            "Requirement already satisfied: urllib3!=1.25.0,!=1.25.1,<1.26,>=1.21.1 in /usr/local/lib/python3.7/dist-packages (from requests->pgeocode) (1.24.3)\n",
            "Requirement already satisfied: certifi>=2017.4.17 in /usr/local/lib/python3.7/dist-packages (from requests->pgeocode) (2021.5.30)\n",
            "Requirement already satisfied: folium in /usr/local/lib/python3.7/dist-packages (0.8.3)\n",
            "Requirement already satisfied: branca>=0.3.0 in /usr/local/lib/python3.7/dist-packages (from folium) (0.4.2)\n",
            "Requirement already satisfied: numpy in /usr/local/lib/python3.7/dist-packages (from folium) (1.19.5)\n",
            "Requirement already satisfied: six in /usr/local/lib/python3.7/dist-packages (from folium) (1.15.0)\n",
            "Requirement already satisfied: jinja2 in /usr/local/lib/python3.7/dist-packages (from folium) (2.11.3)\n",
            "Requirement already satisfied: requests in /usr/local/lib/python3.7/dist-packages (from folium) (2.23.0)\n",
            "Requirement already satisfied: MarkupSafe>=0.23 in /usr/local/lib/python3.7/dist-packages (from jinja2->folium) (2.0.1)\n",
            "Requirement already satisfied: idna<3,>=2.5 in /usr/local/lib/python3.7/dist-packages (from requests->folium) (2.10)\n",
            "Requirement already satisfied: certifi>=2017.4.17 in /usr/local/lib/python3.7/dist-packages (from requests->folium) (2021.5.30)\n",
            "Requirement already satisfied: chardet<4,>=3.0.2 in /usr/local/lib/python3.7/dist-packages (from requests->folium) (3.0.4)\n",
            "Requirement already satisfied: urllib3!=1.25.0,!=1.25.1,<1.26,>=1.21.1 in /usr/local/lib/python3.7/dist-packages (from requests->folium) (1.24.3)\n",
            "Requirement already satisfied: pycountry in /usr/local/lib/python3.7/dist-packages (20.7.3)\n",
            "Requirement already satisfied: beautifulsoup4 in /usr/local/lib/python3.7/dist-packages (4.6.3)\n"
          ],
          "name": "stdout"
        }
      ]
    },
    {
      "cell_type": "code",
      "metadata": {
        "id": "ZZWZ4UU3aDpA"
      },
      "source": [
        "import pandas as pd\n",
        "import numpy as np\n",
        "import seaborn as sns\n",
        "import matplotlib.pyplot as plt\n",
        "import re\n",
        "from statistics import mean\n",
        "\n",
        "import pycountry\n",
        "import pgeocode\n",
        "import folium\n",
        "from folium import Marker\n",
        "\n",
        "from scipy import stats\n",
        "\n",
        "from bs4 import BeautifulSoup\n",
        "import requests\n",
        "\n",
        "from helper_functions import get_postal_code, get_time_difference, check_missing_values, split_zip_codes\n",
        "\n",
        "import warnings\n",
        "warnings.filterwarnings('ignore')"
      ],
      "execution_count": 2,
      "outputs": []
    },
    {
      "cell_type": "markdown",
      "metadata": {
        "id": "CkpAoA_aYIDM"
      },
      "source": [
        "# Analysis"
      ]
    },
    {
      "cell_type": "code",
      "metadata": {
        "colab": {
          "base_uri": "https://localhost:8080/"
        },
        "id": "W1OePA2rX4rG",
        "outputId": "3ab8c829-c781-457f-9d1b-18e520ad90ae"
      },
      "source": [
        "transaction_data = pd.read_csv('transactions_obf.csv')\n",
        "labels_data = pd.read_csv('labels_obf.csv')\n",
        "\n",
        "# adding target value to labels_data and merging the dataframes\n",
        "labels_data['target'] = 1\n",
        "data = pd.merge(transaction_data, labels_data, how=\"left\", on=\"eventId\")\n",
        "\n",
        "data[['target']] = data[['target']].fillna(value=0)\n",
        "\n",
        "# converting time column and setting time as index\n",
        "data['transactionTime'] = pd.to_datetime(data['transactionTime'])\n",
        "\n",
        "data.shape"
      ],
      "execution_count": 3,
      "outputs": [
        {
          "output_type": "execute_result",
          "data": {
            "text/plain": [
              "(118621, 12)"
            ]
          },
          "metadata": {},
          "execution_count": 3
        }
      ]
    },
    {
      "cell_type": "markdown",
      "metadata": {
        "id": "Fl74yTEGd021"
      },
      "source": [
        "###### Split into train/test data based on time"
      ]
    },
    {
      "cell_type": "code",
      "metadata": {
        "colab": {
          "base_uri": "https://localhost:8080/"
        },
        "id": "yL96ZPQrd5QG",
        "outputId": "e622fc2c-97a8-4e8c-94b1-52023eb7435b"
      },
      "source": [
        "train_data = data[data['transactionTime'] < \"2018-01-01\"]\n",
        "test_data = data[data['transactionTime'] > \"2018-01-01\"]\n",
        "\n",
        "print(train_data.shape)\n",
        "print(test_data.shape)"
      ],
      "execution_count": 4,
      "outputs": [
        {
          "output_type": "stream",
          "text": [
            "(110090, 12)\n",
            "(8531, 12)\n"
          ],
          "name": "stdout"
        }
      ]
    },
    {
      "cell_type": "markdown",
      "metadata": {
        "id": "UIgNHIded_WR"
      },
      "source": [
        "###### Missing Values, maybe remove?"
      ]
    },
    {
      "cell_type": "code",
      "metadata": {
        "colab": {
          "base_uri": "https://localhost:8080/",
          "height": 390
        },
        "id": "HmaPmWNSeEKf",
        "outputId": "94981e43-8437-46f9-c218-16c56d9f137c"
      },
      "source": [
        "check_missing_values(train_data)[1:]"
      ],
      "execution_count": 5,
      "outputs": [
        {
          "output_type": "execute_result",
          "data": {
            "text/html": [
              "<div>\n",
              "<style scoped>\n",
              "    .dataframe tbody tr th:only-of-type {\n",
              "        vertical-align: middle;\n",
              "    }\n",
              "\n",
              "    .dataframe tbody tr th {\n",
              "        vertical-align: top;\n",
              "    }\n",
              "\n",
              "    .dataframe thead th {\n",
              "        text-align: right;\n",
              "    }\n",
              "</style>\n",
              "<table border=\"1\" class=\"dataframe\">\n",
              "  <thead>\n",
              "    <tr style=\"text-align: right;\">\n",
              "      <th></th>\n",
              "      <th>total</th>\n",
              "      <th>percent</th>\n",
              "    </tr>\n",
              "  </thead>\n",
              "  <tbody>\n",
              "    <tr>\n",
              "      <th>merchantZip</th>\n",
              "      <td>21182</td>\n",
              "      <td>0.192406</td>\n",
              "    </tr>\n",
              "    <tr>\n",
              "      <th>target</th>\n",
              "      <td>0</td>\n",
              "      <td>0.000000</td>\n",
              "    </tr>\n",
              "    <tr>\n",
              "      <th>availableCash</th>\n",
              "      <td>0</td>\n",
              "      <td>0.000000</td>\n",
              "    </tr>\n",
              "    <tr>\n",
              "      <th>transactionAmount</th>\n",
              "      <td>0</td>\n",
              "      <td>0.000000</td>\n",
              "    </tr>\n",
              "    <tr>\n",
              "      <th>posEntryMode</th>\n",
              "      <td>0</td>\n",
              "      <td>0.000000</td>\n",
              "    </tr>\n",
              "    <tr>\n",
              "      <th>merchantCountry</th>\n",
              "      <td>0</td>\n",
              "      <td>0.000000</td>\n",
              "    </tr>\n",
              "    <tr>\n",
              "      <th>mcc</th>\n",
              "      <td>0</td>\n",
              "      <td>0.000000</td>\n",
              "    </tr>\n",
              "    <tr>\n",
              "      <th>merchantId</th>\n",
              "      <td>0</td>\n",
              "      <td>0.000000</td>\n",
              "    </tr>\n",
              "    <tr>\n",
              "      <th>accountNumber</th>\n",
              "      <td>0</td>\n",
              "      <td>0.000000</td>\n",
              "    </tr>\n",
              "    <tr>\n",
              "      <th>eventId</th>\n",
              "      <td>0</td>\n",
              "      <td>0.000000</td>\n",
              "    </tr>\n",
              "    <tr>\n",
              "      <th>transactionTime</th>\n",
              "      <td>0</td>\n",
              "      <td>0.000000</td>\n",
              "    </tr>\n",
              "  </tbody>\n",
              "</table>\n",
              "</div>"
            ],
            "text/plain": [
              "                   total   percent\n",
              "merchantZip        21182  0.192406\n",
              "target                 0  0.000000\n",
              "availableCash          0  0.000000\n",
              "transactionAmount      0  0.000000\n",
              "posEntryMode           0  0.000000\n",
              "merchantCountry        0  0.000000\n",
              "mcc                    0  0.000000\n",
              "merchantId             0  0.000000\n",
              "accountNumber          0  0.000000\n",
              "eventId                0  0.000000\n",
              "transactionTime        0  0.000000"
            ]
          },
          "metadata": {},
          "execution_count": 5
        }
      ]
    },
    {
      "cell_type": "markdown",
      "metadata": {
        "id": "wztCi8nPe7SL"
      },
      "source": [
        "###### Target Distribution"
      ]
    },
    {
      "cell_type": "code",
      "metadata": {
        "colab": {
          "base_uri": "https://localhost:8080/"
        },
        "id": "VyBeG5wdfFTP",
        "outputId": "d75bb9fa-f004-4ec6-d014-d4364cc8df1f"
      },
      "source": [
        "# proportion of fraud transactions\n",
        "train_data['target'].value_counts(normalize=True)"
      ],
      "execution_count": 6,
      "outputs": [
        {
          "output_type": "execute_result",
          "data": {
            "text/plain": [
              "0.0    0.992406\n",
              "1.0    0.007594\n",
              "Name: target, dtype: float64"
            ]
          },
          "metadata": {},
          "execution_count": 6
        }
      ]
    },
    {
      "cell_type": "markdown",
      "metadata": {
        "id": "Ra7ybJt3fJva"
      },
      "source": [
        "- We are dealing with class imbalance"
      ]
    },
    {
      "cell_type": "markdown",
      "metadata": {
        "id": "MxHtNg5OfNqD"
      },
      "source": [
        "###### Total transactions per country"
      ]
    },
    {
      "cell_type": "code",
      "metadata": {
        "colab": {
          "base_uri": "https://localhost:8080/"
        },
        "id": "1ZGU3eDhf3gz",
        "outputId": "35098041-b873-4830-dd06-e3d3c3c0652e"
      },
      "source": [
        "train_data.groupby(['merchantCountry']).target.count().sort_values(ascending=False).head(5)"
      ],
      "execution_count": 7,
      "outputs": [
        {
          "output_type": "execute_result",
          "data": {
            "text/plain": [
              "merchantCountry\n",
              "826    88908\n",
              "442    13819\n",
              "840     2640\n",
              "372     1236\n",
              "250      429\n",
              "Name: target, dtype: int64"
            ]
          },
          "metadata": {},
          "execution_count": 7
        }
      ]
    },
    {
      "cell_type": "markdown",
      "metadata": {
        "id": "3KO_pIyZgEpQ"
      },
      "source": [
        "We can see that most of the transactions come from Great Britain,\n",
        "since country code 826 = GB"
      ]
    },
    {
      "cell_type": "markdown",
      "metadata": {
        "id": "kwA-4LOzhE14"
      },
      "source": [
        "###### Zip Codes per country"
      ]
    },
    {
      "cell_type": "code",
      "metadata": {
        "colab": {
          "base_uri": "https://localhost:8080/",
          "height": 204
        },
        "id": "8pNuY3CpfSTB",
        "outputId": "90caeab1-3ef0-43ce-830b-0f85563bce0d"
      },
      "source": [
        "# transform to uppercase as to avoid same values with different cases\n",
        "train_data['merchantZip'] = train_data['merchantZip'].str.upper()\n",
        "\n",
        "# getting unique countries values\n",
        "unique_countries = train_data['merchantCountry'].unique().tolist()\n",
        "\n",
        "# number of unique zip codes per country\n",
        "unique_zips = []\n",
        "for i in unique_countries:\n",
        "  unique_zips.append(len(train_data.loc[train_data['merchantCountry'] == i]['merchantZip'].unique()))\n",
        "\n",
        "temp_data = {\"country_code\": unique_countries, \"num_of_unique_zip_codes\": unique_zips}\n",
        "zip_codes_per_country_df = pd.DataFrame(temp_data)\n",
        "zip_codes_per_country_df.head(5)"
      ],
      "execution_count": 8,
      "outputs": [
        {
          "output_type": "execute_result",
          "data": {
            "text/html": [
              "<div>\n",
              "<style scoped>\n",
              "    .dataframe tbody tr th:only-of-type {\n",
              "        vertical-align: middle;\n",
              "    }\n",
              "\n",
              "    .dataframe tbody tr th {\n",
              "        vertical-align: top;\n",
              "    }\n",
              "\n",
              "    .dataframe thead th {\n",
              "        text-align: right;\n",
              "    }\n",
              "</style>\n",
              "<table border=\"1\" class=\"dataframe\">\n",
              "  <thead>\n",
              "    <tr style=\"text-align: right;\">\n",
              "      <th></th>\n",
              "      <th>country_code</th>\n",
              "      <th>num_of_unique_zip_codes</th>\n",
              "    </tr>\n",
              "  </thead>\n",
              "  <tbody>\n",
              "    <tr>\n",
              "      <th>0</th>\n",
              "      <td>826</td>\n",
              "      <td>3099</td>\n",
              "    </tr>\n",
              "    <tr>\n",
              "      <th>1</th>\n",
              "      <td>442</td>\n",
              "      <td>1</td>\n",
              "    </tr>\n",
              "    <tr>\n",
              "      <th>2</th>\n",
              "      <td>392</td>\n",
              "      <td>1</td>\n",
              "    </tr>\n",
              "    <tr>\n",
              "      <th>3</th>\n",
              "      <td>36</td>\n",
              "      <td>1</td>\n",
              "    </tr>\n",
              "    <tr>\n",
              "      <th>4</th>\n",
              "      <td>372</td>\n",
              "      <td>1</td>\n",
              "    </tr>\n",
              "  </tbody>\n",
              "</table>\n",
              "</div>"
            ],
            "text/plain": [
              "   country_code  num_of_unique_zip_codes\n",
              "0           826                     3099\n",
              "1           442                        1\n",
              "2           392                        1\n",
              "3            36                        1\n",
              "4           372                        1"
            ]
          },
          "metadata": {},
          "execution_count": 8
        }
      ]
    },
    {
      "cell_type": "code",
      "metadata": {
        "colab": {
          "base_uri": "https://localhost:8080/"
        },
        "id": "1V92zphZhQCe",
        "outputId": "22aee8c2-8065-4c90-98c9-a349dd58134d"
      },
      "source": [
        "len(train_data['merchantZip'].unique())"
      ],
      "execution_count": 9,
      "outputs": [
        {
          "output_type": "execute_result",
          "data": {
            "text/plain": [
              "3100"
            ]
          },
          "metadata": {},
          "execution_count": 9
        }
      ]
    },
    {
      "cell_type": "markdown",
      "metadata": {
        "id": "gPKWEIkahYBh"
      },
      "source": [
        "We can see that all merchant zip codes come from Great Britain, while zip codes from countries other than GB were not registered or are unknown."
      ]
    },
    {
      "cell_type": "markdown",
      "metadata": {
        "id": "3hJw96PghwaM"
      },
      "source": [
        "###### Taking a closer look at GB"
      ]
    },
    {
      "cell_type": "code",
      "metadata": {
        "colab": {
          "base_uri": "https://localhost:8080/"
        },
        "id": "_gEXX890hzXC",
        "outputId": "9f70648a-f700-41e9-fa34-6369944b697c"
      },
      "source": [
        "gb_data = train_data.loc[train_data['merchantCountry'] == 826]\n",
        "\n",
        "# total unique number of strings lengths for zip codes\n",
        "zip_lengths = len(gb_data['merchantZip'].str.len().value_counts().index.to_list())\n",
        "\n",
        "# number of unique zip code values based on their length\n",
        "for i in range(zip_lengths):\n",
        "  print(i+1, len(gb_data.loc[gb_data['merchantZip'].str.len() == i+1]['merchantZip'].unique()))"
      ],
      "execution_count": 10,
      "outputs": [
        {
          "output_type": "stream",
          "text": [
            "1 2\n",
            "2 4\n",
            "3 1087\n",
            "4 1263\n",
            "5 743\n"
          ],
          "name": "stdout"
        }
      ]
    },
    {
      "cell_type": "markdown",
      "metadata": {
        "id": "153MpnkGknnK"
      },
      "source": [
        "**Note:** Zip Code Fact 1.0\n",
        "\n",
        "* Zip code pattern for GB is letter+digit"
      ]
    },
    {
      "cell_type": "markdown",
      "metadata": {
        "id": "5B-hDPjZlSIT"
      },
      "source": [
        "###### Invalid Zip codes, based on Zip Code Fact 1.0"
      ]
    },
    {
      "cell_type": "code",
      "metadata": {
        "id": "VUmXs0pfT7Jp"
      },
      "source": [
        "# finding non alpha numeric values\n",
        "non_alpha_numeric = gb_data[gb_data['merchantZip'].str.contains('(\\W+)')]['merchantZip'].unique().tolist()\n",
        "\n",
        "# finding values that only contain digits\n",
        "only_numeric = gb_data[gb_data['merchantZip'].str.contains('^([\\s\\d]+)$')]['merchantZip'].unique().tolist()\n",
        "\n",
        "# finding values that only contain alphabetic chars\n",
        "only_alphabetic_chars = gb_data[gb_data['merchantZip'].str.contains('^[a-zA-Z]+$')]['merchantZip'].unique().tolist()\n",
        "\n",
        "invalid_zip_values = non_alpha_numeric + only_numeric + only_alphabetic_chars"
      ],
      "execution_count": 11,
      "outputs": []
    },
    {
      "cell_type": "code",
      "metadata": {
        "colab": {
          "base_uri": "https://localhost:8080/"
        },
        "id": "RTzYJwVTVPky",
        "outputId": "5f48c69f-1521-4cac-cbdd-2bf371b4f374"
      },
      "source": [
        "invalid_zip_values[:5]"
      ],
      "execution_count": 12,
      "outputs": [
        {
          "output_type": "execute_result",
          "data": {
            "text/plain": [
              "['....', '...', '***', '.....', '**']"
            ]
          },
          "metadata": {},
          "execution_count": 12
        }
      ]
    },
    {
      "cell_type": "markdown",
      "metadata": {
        "id": "UaJlubrkVFTP"
      },
      "source": [
        "###### Number of transactions for each invalid zip code"
      ]
    },
    {
      "cell_type": "code",
      "metadata": {
        "colab": {
          "base_uri": "https://localhost:8080/",
          "height": 204
        },
        "id": "xayygK9IVIBR",
        "outputId": "5eff47e1-987d-4add-dacf-181dd6922aa8"
      },
      "source": [
        "invalid_zip_transactions = []\n",
        "for zip in invalid_zip_values:\n",
        "  invalid_zip_transactions.append(gb_data.loc[gb_data['merchantZip'] == zip].shape[0])\n",
        "\n",
        "temp_data = {\"zip_codes\": invalid_zip_values, \"transactions\": invalid_zip_transactions}\n",
        "df = pd.DataFrame(temp_data)\n",
        "\n",
        "df.sort_values(by=['transactions'], ascending=False).head(5)"
      ],
      "execution_count": 13,
      "outputs": [
        {
          "output_type": "execute_result",
          "data": {
            "text/html": [
              "<div>\n",
              "<style scoped>\n",
              "    .dataframe tbody tr th:only-of-type {\n",
              "        vertical-align: middle;\n",
              "    }\n",
              "\n",
              "    .dataframe tbody tr th {\n",
              "        vertical-align: top;\n",
              "    }\n",
              "\n",
              "    .dataframe thead th {\n",
              "        text-align: right;\n",
              "    }\n",
              "</style>\n",
              "<table border=\"1\" class=\"dataframe\">\n",
              "  <thead>\n",
              "    <tr style=\"text-align: right;\">\n",
              "      <th></th>\n",
              "      <th>zip_codes</th>\n",
              "      <th>transactions</th>\n",
              "    </tr>\n",
              "  </thead>\n",
              "  <tbody>\n",
              "    <tr>\n",
              "      <th>6</th>\n",
              "      <td>0</td>\n",
              "      <td>13554</td>\n",
              "    </tr>\n",
              "    <tr>\n",
              "      <th>1</th>\n",
              "      <td>...</td>\n",
              "      <td>374</td>\n",
              "    </tr>\n",
              "    <tr>\n",
              "      <th>0</th>\n",
              "      <td>....</td>\n",
              "      <td>361</td>\n",
              "    </tr>\n",
              "    <tr>\n",
              "      <th>7</th>\n",
              "      <td>11111</td>\n",
              "      <td>35</td>\n",
              "    </tr>\n",
              "    <tr>\n",
              "      <th>19</th>\n",
              "      <td>F</td>\n",
              "      <td>27</td>\n",
              "    </tr>\n",
              "  </tbody>\n",
              "</table>\n",
              "</div>"
            ],
            "text/plain": [
              "   zip_codes  transactions\n",
              "6          0         13554\n",
              "1        ...           374\n",
              "0       ....           361\n",
              "7      11111            35\n",
              "19         F            27"
            ]
          },
          "metadata": {},
          "execution_count": 13
        }
      ]
    },
    {
      "cell_type": "code",
      "metadata": {
        "colab": {
          "base_uri": "https://localhost:8080/"
        },
        "id": "srtuqWDyaXqj",
        "outputId": "b31baa79-d08b-460a-8033-9c2948558bbc"
      },
      "source": [
        "# count of transactions for valid + invalid zip values\n",
        "gb_data.groupby(['merchantZip']).count().target.sort_values(ascending=False)"
      ],
      "execution_count": 14,
      "outputs": [
        {
          "output_type": "execute_result",
          "data": {
            "text/plain": [
              "merchantZip\n",
              "0        13554\n",
              "E12       1063\n",
              "SL4        614\n",
              "LS11       570\n",
              "CO10       512\n",
              "         ...  \n",
              "E83NS        1\n",
              "E83DG        1\n",
              "E82NS        1\n",
              "E82JP        1\n",
              "YO8          1\n",
              "Name: target, Length: 3099, dtype: int64"
            ]
          },
          "metadata": {},
          "execution_count": 14
        }
      ]
    },
    {
      "cell_type": "markdown",
      "metadata": {
        "id": "3gDAYFoCajsQ"
      },
      "source": [
        "Given that merchantZip \"0\" has the highest number of transactions in GB, we can't assume that it is coming from one/same location. We should then encode it as a geolocation from GB."
      ]
    },
    {
      "cell_type": "markdown",
      "metadata": {
        "id": "qNu73x8Vazpy"
      },
      "source": [
        "**Note:** Zip Code Fact 1.1\n",
        "\n",
        "* All codes in GB that have 5 characters, have space before 3rd character"
      ]
    },
    {
      "cell_type": "markdown",
      "metadata": {
        "id": "jVFQQ7sHbQ1T"
      },
      "source": [
        "###### Fixing zip codes based on Zip Code Fact 1.1"
      ]
    },
    {
      "cell_type": "code",
      "metadata": {
        "id": "fBp4nCztaiz2"
      },
      "source": [
        "gb_data['merchantZip'] = split_zip_codes(gb_data, 5)"
      ],
      "execution_count": 19,
      "outputs": []
    },
    {
      "cell_type": "markdown",
      "metadata": {
        "id": "kUp7Dy5GbaCM"
      },
      "source": [
        "###### Adding longitude and latitude to each sample based on Zip address"
      ]
    },
    {
      "cell_type": "code",
      "metadata": {
        "colab": {
          "base_uri": "https://localhost:8080/"
        },
        "id": "xX49yVeobX8x",
        "outputId": "b8776f2d-e03e-4561-8b30-c8619b17eada"
      },
      "source": [
        "nomi = pgeocode.Nominatim('gb')\n",
        "\n",
        "# encoding known zip codes\n",
        "gb_zip_codes = pd.DataFrame({\"zip_codes\": gb_data['merchantZip'].unique()})\n",
        "\n",
        "gb_zip_codes[['Latitude', 'Longitude', 'state_name']] = gb_zip_codes.apply(lambda x: get_postal_code(nomi, x['zip_codes']), axis=1)\n",
        "\n",
        "print(\"{}% of addresses were geocoded!\".format(\n",
        "    (1 - sum(np.isnan(gb_zip_codes[\"Latitude\"])) / len(gb_zip_codes)) * 100))"
      ],
      "execution_count": 24,
      "outputs": [
        {
          "output_type": "stream",
          "text": [
            "95.70829299774121% of addresses were geocoded!\n"
          ],
          "name": "stdout"
        }
      ]
    },
    {
      "cell_type": "code",
      "metadata": {
        "colab": {
          "base_uri": "https://localhost:8080/"
        },
        "id": "kJP091yRb3s0",
        "outputId": "0b11ea82-3406-475c-e1cb-b36fe74d5fd6"
      },
      "source": [
        "not_found_zip_codes = gb_zip_codes[gb_zip_codes['Latitude'].isnull()]\n",
        "not_found_zip_codes['zip_codes'].str.len().value_counts()"
      ],
      "execution_count": 25,
      "outputs": [
        {
          "output_type": "execute_result",
          "data": {
            "text/plain": [
              "4    70\n",
              "3    41\n",
              "6    16\n",
              "2     4\n",
              "1     2\n",
              "Name: zip_codes, dtype: int64"
            ]
          },
          "metadata": {},
          "execution_count": 25
        }
      ]
    },
    {
      "cell_type": "markdown",
      "metadata": {
        "id": "gcRLTqH8b_08"
      },
      "source": [
        "After manually examining some codes, most of them are districts with missing street numbers or the codes are no longer in use.\n",
        "\n",
        "* There are some geopy maps that could potentionally find the geolocation of a district, unfortunatelly, free-tier maps do not work well with districts or not in use post-codes.\n",
        "\n",
        "* We will encode all the non-found zip_codes with geolocation of UK in "
      ]
    },
    {
      "cell_type": "code",
      "metadata": {
        "id": "UVINqmTWcaRE"
      },
      "source": [
        "# fill non found states with other\n",
        "gb_zip_codes['state_name'] = gb_zip_codes.state_name.fillna('other')\n",
        "\n",
        "# derived from https://developers.google.com/public-data/docs/canonical/countries_csv\n",
        "# fill nan values with GB coordinates\n",
        "gb_zip_codes['Latitude'] = gb_zip_codes['Latitude'].fillna(55.378051)\n",
        "gb_zip_codes['Longitude'] = gb_zip_codes['Longitude'].fillna(-3.435973)\n",
        "\n",
        "# removing space from strings to match train_data\n",
        "gb_zip_codes['zip_codes'] = gb_zip_codes['zip_codes'].str.replace(' ', '')\n",
        "\n",
        "train_data = pd.merge(left=train_data, right=gb_zip_codes, how=\"outer\", left_on='merchantZip', right_on=\"zip_codes\").drop(['zip_codes'], axis=1)"
      ],
      "execution_count": 29,
      "outputs": []
    }
  ]
}