{
  "nbformat": 4,
  "nbformat_minor": 0,
  "metadata": {
    "colab": {
      "name": "fraud_homework_redo",
      "provenance": [],
      "authorship_tag": "ABX9TyOHRpKOQOzDg7IxT2YOIHtJ",
      "include_colab_link": true
    },
    "kernelspec": {
      "name": "python3",
      "display_name": "Python 3"
    },
    "language_info": {
      "name": "python"
    }
  },
  "cells": [
    {
      "cell_type": "markdown",
      "metadata": {
        "id": "view-in-github",
        "colab_type": "text"
      },
      "source": [
        "<a href=\"https://colab.research.google.com/github/LeonMilosevic/fraud_homework_redo/blob/main/fraud_homework_redo.ipynb\" target=\"_parent\"><img src=\"https://colab.research.google.com/assets/colab-badge.svg\" alt=\"Open In Colab\"/></a>"
      ]
    },
    {
      "cell_type": "markdown",
      "metadata": {
        "id": "53lv5OwEYQv2"
      },
      "source": [
        "# Concept of the Notebook"
      ]
    },
    {
      "cell_type": "markdown",
      "metadata": {
        "id": "nvLGjsjsYUhp"
      },
      "source": [
        "Notebook will consists out of 5 parts.\n",
        "\n",
        "1. Analysis\n",
        "  - Explore the dataset\n",
        "  - Find insights\n",
        "  - Draw conclusions\n",
        "  - Get ideas for feature engineering\n",
        "\n",
        "2. Base model\n",
        "  - We will create a base model and have a benchmark for the performence.\n",
        "\n",
        "3. Feature Engineering\n",
        "  - Improve the results and build upon discoveries from Analysis part.\n",
        "\n",
        "4. Modeling\n",
        "  - Model optimization, and performence tuning.\n",
        "  - Draw business conclusions\n",
        "\n",
        "5. Business presentation and final conclusions.\n",
        "  - We will make a conclusion, sum up all previous chapters, present our solution and advice on how to improve the business model of detecting fraudulent transactions."
      ]
    },
    {
      "cell_type": "markdown",
      "metadata": {
        "id": "25orqDOxaAwK"
      },
      "source": [
        "# Imports and libraries "
      ]
    },
    {
      "cell_type": "code",
      "metadata": {
        "id": "lEOf0P6DaMCJ"
      },
      "source": [
        "!pip install pgeocode\n",
        "!pip install folium\n",
        "!pip install pycountry\n",
        "!pip install beautifulsoup4\n",
        "!pip install catboost"
      ],
      "execution_count": null,
      "outputs": []
    },
    {
      "cell_type": "code",
      "metadata": {
        "id": "ZZWZ4UU3aDpA"
      },
      "source": [
        "import pandas as pd\n",
        "import numpy as np\n",
        "import seaborn as sns\n",
        "import matplotlib.pyplot as plt\n",
        "import re\n",
        "from statistics import mean\n",
        "\n",
        "from catboost import CatBoostClassifier\n",
        "\n",
        "from sklearn.metrics import roc_auc_score\n",
        "from sklearn.metrics import confusion_matrix\n",
        "\n",
        "import pycountry\n",
        "import pgeocode\n",
        "import folium\n",
        "from folium import Marker\n",
        "\n",
        "from scipy import stats\n",
        "\n",
        "from bs4 import BeautifulSoup\n",
        "import requests\n",
        "\n",
        "from helper_functions import get_postal_code, get_time_difference, check_missing_values, split_zip_codes, zip_encoder\n",
        "\n",
        "import warnings\n",
        "warnings.filterwarnings('ignore')"
      ],
      "execution_count": 56,
      "outputs": []
    },
    {
      "cell_type": "markdown",
      "metadata": {
        "id": "CkpAoA_aYIDM"
      },
      "source": [
        "# Analysis"
      ]
    },
    {
      "cell_type": "code",
      "metadata": {
        "colab": {
          "base_uri": "https://localhost:8080/"
        },
        "id": "W1OePA2rX4rG",
        "outputId": "42dd1fd4-d757-47a6-b9b0-3dad4c9c839e"
      },
      "source": [
        "transaction_data = pd.read_csv('transactions_obf.csv')\n",
        "labels_data = pd.read_csv('labels_obf.csv')\n",
        "\n",
        "# adding target value to labels_data and merging the dataframes\n",
        "labels_data['target'] = 1\n",
        "data = pd.merge(transaction_data, labels_data, how=\"left\", on=\"eventId\")\n",
        "\n",
        "data[['target']] = data[['target']].fillna(value=0)\n",
        "\n",
        "# converting time column and setting time as index\n",
        "data['transactionTime'] = pd.to_datetime(data['transactionTime'])\n",
        "\n",
        "data.shape"
      ],
      "execution_count": 3,
      "outputs": [
        {
          "output_type": "execute_result",
          "data": {
            "text/plain": [
              "(118621, 12)"
            ]
          },
          "metadata": {},
          "execution_count": 3
        }
      ]
    },
    {
      "cell_type": "markdown",
      "metadata": {
        "id": "Fl74yTEGd021"
      },
      "source": [
        "###### Split into train/test data based on time"
      ]
    },
    {
      "cell_type": "code",
      "metadata": {
        "colab": {
          "base_uri": "https://localhost:8080/"
        },
        "id": "yL96ZPQrd5QG",
        "outputId": "74e09440-a320-41c0-be04-b1332eba70a0"
      },
      "source": [
        "train_data = data[data['transactionTime'] < \"2018-01-01\"]\n",
        "test_data = data[data['transactionTime'] > \"2018-01-01\"]\n",
        "\n",
        "print(train_data.shape)\n",
        "print(test_data.shape)"
      ],
      "execution_count": 4,
      "outputs": [
        {
          "output_type": "stream",
          "text": [
            "(110090, 12)\n",
            "(8531, 12)\n"
          ],
          "name": "stdout"
        }
      ]
    },
    {
      "cell_type": "markdown",
      "metadata": {
        "id": "wztCi8nPe7SL"
      },
      "source": [
        "###### Target Distribution"
      ]
    },
    {
      "cell_type": "code",
      "metadata": {
        "colab": {
          "base_uri": "https://localhost:8080/"
        },
        "id": "VyBeG5wdfFTP",
        "outputId": "bcab5603-0c42-4c57-a78e-8be9ea5add4f"
      },
      "source": [
        "# proportion of fraud transactions\n",
        "train_data['target'].value_counts(normalize=True)"
      ],
      "execution_count": 5,
      "outputs": [
        {
          "output_type": "execute_result",
          "data": {
            "text/plain": [
              "0.0    0.992406\n",
              "1.0    0.007594\n",
              "Name: target, dtype: float64"
            ]
          },
          "metadata": {},
          "execution_count": 5
        }
      ]
    },
    {
      "cell_type": "markdown",
      "metadata": {
        "id": "Ra7ybJt3fJva"
      },
      "source": [
        "- We are dealing with class imbalance"
      ]
    },
    {
      "cell_type": "markdown",
      "metadata": {
        "id": "MxHtNg5OfNqD"
      },
      "source": [
        "###### Total transactions per country"
      ]
    },
    {
      "cell_type": "code",
      "metadata": {
        "colab": {
          "base_uri": "https://localhost:8080/"
        },
        "id": "1ZGU3eDhf3gz",
        "outputId": "ba369aeb-3488-4c9d-bba3-90e55d23ab2e"
      },
      "source": [
        "train_data.groupby(['merchantCountry']).target.count().sort_values(ascending=False).head(5)"
      ],
      "execution_count": 6,
      "outputs": [
        {
          "output_type": "execute_result",
          "data": {
            "text/plain": [
              "merchantCountry\n",
              "826    88908\n",
              "442    13819\n",
              "840     2640\n",
              "372     1236\n",
              "250      429\n",
              "Name: target, dtype: int64"
            ]
          },
          "metadata": {},
          "execution_count": 6
        }
      ]
    },
    {
      "cell_type": "markdown",
      "metadata": {
        "id": "3KO_pIyZgEpQ"
      },
      "source": [
        "We can see that most of the transactions come from Great Britain,\n",
        "since country code 826 = GB"
      ]
    },
    {
      "cell_type": "markdown",
      "metadata": {
        "id": "kwA-4LOzhE14"
      },
      "source": [
        "###### Zip Codes per country"
      ]
    },
    {
      "cell_type": "code",
      "metadata": {
        "colab": {
          "base_uri": "https://localhost:8080/",
          "height": 204
        },
        "id": "8pNuY3CpfSTB",
        "outputId": "1e7d313d-00dd-4c32-cd27-1448aa27d20b"
      },
      "source": [
        "# transform to uppercase as to avoid same values with different cases\n",
        "train_data['merchantZip'] = train_data['merchantZip'].str.upper()\n",
        "\n",
        "# getting unique countries values\n",
        "unique_countries = train_data['merchantCountry'].unique().tolist()\n",
        "\n",
        "# number of unique zip codes per country\n",
        "unique_zips = []\n",
        "for i in unique_countries:\n",
        "  unique_zips.append(len(train_data.loc[train_data['merchantCountry'] == i]['merchantZip'].unique()))\n",
        "\n",
        "temp_data = {\"country_code\": unique_countries, \"num_of_unique_zip_codes\": unique_zips}\n",
        "zip_codes_per_country_df = pd.DataFrame(temp_data)\n",
        "zip_codes_per_country_df.head(5)"
      ],
      "execution_count": 7,
      "outputs": [
        {
          "output_type": "execute_result",
          "data": {
            "text/html": [
              "<div>\n",
              "<style scoped>\n",
              "    .dataframe tbody tr th:only-of-type {\n",
              "        vertical-align: middle;\n",
              "    }\n",
              "\n",
              "    .dataframe tbody tr th {\n",
              "        vertical-align: top;\n",
              "    }\n",
              "\n",
              "    .dataframe thead th {\n",
              "        text-align: right;\n",
              "    }\n",
              "</style>\n",
              "<table border=\"1\" class=\"dataframe\">\n",
              "  <thead>\n",
              "    <tr style=\"text-align: right;\">\n",
              "      <th></th>\n",
              "      <th>country_code</th>\n",
              "      <th>num_of_unique_zip_codes</th>\n",
              "    </tr>\n",
              "  </thead>\n",
              "  <tbody>\n",
              "    <tr>\n",
              "      <th>0</th>\n",
              "      <td>826</td>\n",
              "      <td>3099</td>\n",
              "    </tr>\n",
              "    <tr>\n",
              "      <th>1</th>\n",
              "      <td>442</td>\n",
              "      <td>1</td>\n",
              "    </tr>\n",
              "    <tr>\n",
              "      <th>2</th>\n",
              "      <td>392</td>\n",
              "      <td>1</td>\n",
              "    </tr>\n",
              "    <tr>\n",
              "      <th>3</th>\n",
              "      <td>36</td>\n",
              "      <td>1</td>\n",
              "    </tr>\n",
              "    <tr>\n",
              "      <th>4</th>\n",
              "      <td>372</td>\n",
              "      <td>1</td>\n",
              "    </tr>\n",
              "  </tbody>\n",
              "</table>\n",
              "</div>"
            ],
            "text/plain": [
              "   country_code  num_of_unique_zip_codes\n",
              "0           826                     3099\n",
              "1           442                        1\n",
              "2           392                        1\n",
              "3            36                        1\n",
              "4           372                        1"
            ]
          },
          "metadata": {},
          "execution_count": 7
        }
      ]
    },
    {
      "cell_type": "code",
      "metadata": {
        "colab": {
          "base_uri": "https://localhost:8080/"
        },
        "id": "1V92zphZhQCe",
        "outputId": "cdf1decf-17f9-4f03-98f4-a4d78e55ec00"
      },
      "source": [
        "len(train_data['merchantZip'].unique())"
      ],
      "execution_count": 8,
      "outputs": [
        {
          "output_type": "execute_result",
          "data": {
            "text/plain": [
              "3100"
            ]
          },
          "metadata": {},
          "execution_count": 8
        }
      ]
    },
    {
      "cell_type": "markdown",
      "metadata": {
        "id": "gPKWEIkahYBh"
      },
      "source": [
        "We can see that all merchant zip codes come from Great Britain, while zip codes from countries other than GB were not registered or are unknown."
      ]
    },
    {
      "cell_type": "markdown",
      "metadata": {
        "id": "3hJw96PghwaM"
      },
      "source": [
        "###### Taking a closer look at GB"
      ]
    },
    {
      "cell_type": "code",
      "metadata": {
        "colab": {
          "base_uri": "https://localhost:8080/"
        },
        "id": "_gEXX890hzXC",
        "outputId": "fe790b67-9602-4251-877f-d20f9a91d86f"
      },
      "source": [
        "gb_data = train_data.loc[train_data['merchantCountry'] == 826]\n",
        "\n",
        "# total unique number of strings lengths for zip codes\n",
        "zip_lengths = len(gb_data['merchantZip'].str.len().value_counts().index.to_list())\n",
        "\n",
        "# number of unique zip code values based on their length\n",
        "for i in range(zip_lengths):\n",
        "  print(i+1, len(gb_data.loc[gb_data['merchantZip'].str.len() == i+1]['merchantZip'].unique()))"
      ],
      "execution_count": 9,
      "outputs": [
        {
          "output_type": "stream",
          "text": [
            "1 2\n",
            "2 4\n",
            "3 1087\n",
            "4 1263\n",
            "5 743\n"
          ],
          "name": "stdout"
        }
      ]
    },
    {
      "cell_type": "markdown",
      "metadata": {
        "id": "153MpnkGknnK"
      },
      "source": [
        "**Note:** Zip Code Fact 1.0\n",
        "\n",
        "* Zip code pattern for GB is letter+digit"
      ]
    },
    {
      "cell_type": "markdown",
      "metadata": {
        "id": "5B-hDPjZlSIT"
      },
      "source": [
        "###### Invalid Zip codes, based on Zip Code Fact 1.0"
      ]
    },
    {
      "cell_type": "code",
      "metadata": {
        "id": "VUmXs0pfT7Jp"
      },
      "source": [
        "# finding non alpha numeric values\n",
        "non_alpha_numeric = gb_data[gb_data['merchantZip'].str.contains('(\\W+)')]['merchantZip'].unique().tolist()\n",
        "\n",
        "# finding values that only contain digits\n",
        "only_numeric = gb_data[gb_data['merchantZip'].str.contains('^([\\s\\d]+)$')]['merchantZip'].unique().tolist()\n",
        "\n",
        "# finding values that only contain alphabetic chars\n",
        "only_alphabetic_chars = gb_data[gb_data['merchantZip'].str.contains('^[a-zA-Z]+$')]['merchantZip'].unique().tolist()\n",
        "\n",
        "invalid_zip_values = non_alpha_numeric + only_numeric + only_alphabetic_chars"
      ],
      "execution_count": 10,
      "outputs": []
    },
    {
      "cell_type": "code",
      "metadata": {
        "colab": {
          "base_uri": "https://localhost:8080/"
        },
        "id": "RTzYJwVTVPky",
        "outputId": "43c1dbc9-f6b9-4c26-fbc4-74859f2d1a38"
      },
      "source": [
        "invalid_zip_values[:5]"
      ],
      "execution_count": 11,
      "outputs": [
        {
          "output_type": "execute_result",
          "data": {
            "text/plain": [
              "['....', '...', '***', '.....', '**']"
            ]
          },
          "metadata": {},
          "execution_count": 11
        }
      ]
    },
    {
      "cell_type": "markdown",
      "metadata": {
        "id": "UaJlubrkVFTP"
      },
      "source": [
        "###### Number of transactions for each invalid zip code"
      ]
    },
    {
      "cell_type": "code",
      "metadata": {
        "colab": {
          "base_uri": "https://localhost:8080/",
          "height": 204
        },
        "id": "xayygK9IVIBR",
        "outputId": "4998eaa7-ea55-41b9-eff4-a310190bd7cd"
      },
      "source": [
        "invalid_zip_transactions = []\n",
        "for zip in invalid_zip_values:\n",
        "  invalid_zip_transactions.append(gb_data.loc[gb_data['merchantZip'] == zip].shape[0])\n",
        "\n",
        "temp_data = {\"zip_codes\": invalid_zip_values, \"transactions\": invalid_zip_transactions}\n",
        "df = pd.DataFrame(temp_data)\n",
        "\n",
        "df.sort_values(by=['transactions'], ascending=False).head(5)"
      ],
      "execution_count": 12,
      "outputs": [
        {
          "output_type": "execute_result",
          "data": {
            "text/html": [
              "<div>\n",
              "<style scoped>\n",
              "    .dataframe tbody tr th:only-of-type {\n",
              "        vertical-align: middle;\n",
              "    }\n",
              "\n",
              "    .dataframe tbody tr th {\n",
              "        vertical-align: top;\n",
              "    }\n",
              "\n",
              "    .dataframe thead th {\n",
              "        text-align: right;\n",
              "    }\n",
              "</style>\n",
              "<table border=\"1\" class=\"dataframe\">\n",
              "  <thead>\n",
              "    <tr style=\"text-align: right;\">\n",
              "      <th></th>\n",
              "      <th>zip_codes</th>\n",
              "      <th>transactions</th>\n",
              "    </tr>\n",
              "  </thead>\n",
              "  <tbody>\n",
              "    <tr>\n",
              "      <th>6</th>\n",
              "      <td>0</td>\n",
              "      <td>13554</td>\n",
              "    </tr>\n",
              "    <tr>\n",
              "      <th>1</th>\n",
              "      <td>...</td>\n",
              "      <td>374</td>\n",
              "    </tr>\n",
              "    <tr>\n",
              "      <th>0</th>\n",
              "      <td>....</td>\n",
              "      <td>361</td>\n",
              "    </tr>\n",
              "    <tr>\n",
              "      <th>7</th>\n",
              "      <td>11111</td>\n",
              "      <td>35</td>\n",
              "    </tr>\n",
              "    <tr>\n",
              "      <th>19</th>\n",
              "      <td>F</td>\n",
              "      <td>27</td>\n",
              "    </tr>\n",
              "  </tbody>\n",
              "</table>\n",
              "</div>"
            ],
            "text/plain": [
              "   zip_codes  transactions\n",
              "6          0         13554\n",
              "1        ...           374\n",
              "0       ....           361\n",
              "7      11111            35\n",
              "19         F            27"
            ]
          },
          "metadata": {},
          "execution_count": 12
        }
      ]
    },
    {
      "cell_type": "code",
      "metadata": {
        "colab": {
          "base_uri": "https://localhost:8080/"
        },
        "id": "srtuqWDyaXqj",
        "outputId": "10cd8faf-c2c4-414d-c74b-c11e7e1461bd"
      },
      "source": [
        "# count of transactions for valid + invalid zip values\n",
        "gb_data.groupby(['merchantZip']).count().target.sort_values(ascending=False)"
      ],
      "execution_count": 13,
      "outputs": [
        {
          "output_type": "execute_result",
          "data": {
            "text/plain": [
              "merchantZip\n",
              "0        13554\n",
              "E12       1063\n",
              "SL4        614\n",
              "LS11       570\n",
              "CO10       512\n",
              "         ...  \n",
              "E83NS        1\n",
              "E83DG        1\n",
              "E82NS        1\n",
              "E82JP        1\n",
              "YO8          1\n",
              "Name: target, Length: 3099, dtype: int64"
            ]
          },
          "metadata": {},
          "execution_count": 13
        }
      ]
    },
    {
      "cell_type": "markdown",
      "metadata": {
        "id": "3gDAYFoCajsQ"
      },
      "source": [
        "Given that merchantZip \"0\" has the highest number of transactions in GB, we can't assume that it is coming from one/same location. We should then encode it as a geolocation from GB."
      ]
    },
    {
      "cell_type": "markdown",
      "metadata": {
        "id": "qNu73x8Vazpy"
      },
      "source": [
        "**Note:** Zip Code Fact 1.1\n",
        "\n",
        "* All codes in GB that have 5 characters, have space before 3rd character"
      ]
    },
    {
      "cell_type": "markdown",
      "metadata": {
        "id": "jVFQQ7sHbQ1T"
      },
      "source": [
        "###### Fixing zip codes based on Zip Code Fact 1.1"
      ]
    },
    {
      "cell_type": "code",
      "metadata": {
        "id": "fBp4nCztaiz2"
      },
      "source": [
        "gb_data['merchantZip'] = split_zip_codes(gb_data, 5)"
      ],
      "execution_count": 14,
      "outputs": []
    },
    {
      "cell_type": "markdown",
      "metadata": {
        "id": "kUp7Dy5GbaCM"
      },
      "source": [
        "###### Adding longitude and latitude to each sample based on Zip address"
      ]
    },
    {
      "cell_type": "code",
      "metadata": {
        "colab": {
          "base_uri": "https://localhost:8080/"
        },
        "id": "xX49yVeobX8x",
        "outputId": "571833b1-33e8-41f0-e29b-fb4a4ac5baa5"
      },
      "source": [
        "nomi = pgeocode.Nominatim('gb')\n",
        "\n",
        "# encoding known zip codes\n",
        "gb_zip_codes = pd.DataFrame({\"zip_codes\": gb_data['merchantZip'].unique()})\n",
        "\n",
        "gb_zip_codes[['Latitude', 'Longitude', 'state_name']] = gb_zip_codes.apply(lambda x: get_postal_code(nomi, x['zip_codes']), axis=1)\n",
        "\n",
        "print(\"{}% of addresses were geocoded!\".format(\n",
        "    (1 - sum(np.isnan(gb_zip_codes[\"Latitude\"])) / len(gb_zip_codes)) * 100))"
      ],
      "execution_count": 15,
      "outputs": [
        {
          "output_type": "stream",
          "text": [
            "95.70829299774121% of addresses were geocoded!\n"
          ],
          "name": "stdout"
        }
      ]
    },
    {
      "cell_type": "code",
      "metadata": {
        "colab": {
          "base_uri": "https://localhost:8080/"
        },
        "id": "kJP091yRb3s0",
        "outputId": "390fe9f5-27b5-40a9-860c-e6b3d26f516c"
      },
      "source": [
        "not_found_zip_codes = gb_zip_codes[gb_zip_codes['Latitude'].isnull()]\n",
        "not_found_zip_codes['zip_codes'].str.len().value_counts()"
      ],
      "execution_count": 16,
      "outputs": [
        {
          "output_type": "execute_result",
          "data": {
            "text/plain": [
              "4    70\n",
              "3    41\n",
              "6    16\n",
              "2     4\n",
              "1     2\n",
              "Name: zip_codes, dtype: int64"
            ]
          },
          "metadata": {},
          "execution_count": 16
        }
      ]
    },
    {
      "cell_type": "markdown",
      "metadata": {
        "id": "gcRLTqH8b_08"
      },
      "source": [
        "After manually examining some codes, most of them are districts with missing street numbers or the codes are no longer in use.\n",
        "\n",
        "* There are some geopy maps that could potentionally find the geolocation of a district, unfortunatelly, free-tier maps do not work well with districts or not in use post-codes.\n",
        "\n",
        "* We will encode all the non-found zip_codes with geolocation of GB\n",
        "\n",
        "* Countries other than GB, since they are missing merchantZip, will be encoded by their country Long/Lat"
      ]
    },
    {
      "cell_type": "markdown",
      "metadata": {
        "id": "g5NJrdaWwm9f"
      },
      "source": [
        "###### Account number exploration"
      ]
    },
    {
      "cell_type": "code",
      "metadata": {
        "colab": {
          "base_uri": "https://localhost:8080/"
        },
        "id": "uR-GMAc8wsUk",
        "outputId": "99075085-3db9-455d-84ec-6b05af74a7d2"
      },
      "source": [
        "# repeated transactions\n",
        "train_data[train_data['target'] == 1]['accountNumber'].value_counts()[:20]"
      ],
      "execution_count": 26,
      "outputs": [
        {
          "output_type": "execute_result",
          "data": {
            "text/plain": [
              "8b9c15ea    97\n",
              "3ec9dda7    59\n",
              "6bab7602    48\n",
              "39219923    45\n",
              "7728d696    41\n",
              "1602df4e    41\n",
              "0646d69d    24\n",
              "749acd16    24\n",
              "bd9f22c1    18\n",
              "50a66385    16\n",
              "ab09dc29    14\n",
              "3c971982    10\n",
              "c8e8e50e    10\n",
              "3e772d6b     9\n",
              "6c8aab9a     9\n",
              "f42ba1f1     8\n",
              "23ce118b     7\n",
              "5576aade     7\n",
              "6c319a1d     6\n",
              "accd8410     6\n",
              "Name: accountNumber, dtype: int64"
            ]
          },
          "metadata": {},
          "execution_count": 26
        }
      ]
    },
    {
      "cell_type": "markdown",
      "metadata": {
        "id": "pR9A0D5xwwaQ"
      },
      "source": [
        "- We can see repeated transactions coming from same accounts, we will explore later in what interval of time fraud transactions happen."
      ]
    },
    {
      "cell_type": "markdown",
      "metadata": {
        "id": "2azgs6w7w2ro"
      },
      "source": [
        "###### Explore PosEntryMode"
      ]
    },
    {
      "cell_type": "code",
      "metadata": {
        "colab": {
          "base_uri": "https://localhost:8080/"
        },
        "id": "-OUoycXswvFm",
        "outputId": "36116aaf-11f2-4d28-a676-064b82dc833e"
      },
      "source": [
        "train_data['posEntryMode'].value_counts()"
      ],
      "execution_count": 27,
      "outputs": [
        {
          "output_type": "execute_result",
          "data": {
            "text/plain": [
              "5     65262\n",
              "81    33189\n",
              "1      9875\n",
              "90     1047\n",
              "7       569\n",
              "80       91\n",
              "79       31\n",
              "2        13\n",
              "0        10\n",
              "91        3\n",
              "Name: posEntryMode, dtype: int64"
            ]
          },
          "metadata": {},
          "execution_count": 27
        }
      ]
    },
    {
      "cell_type": "code",
      "metadata": {
        "colab": {
          "base_uri": "https://localhost:8080/"
        },
        "id": "vOBdwwC6w7cQ",
        "outputId": "44930833-32f4-441e-bb72-63bf1e76fa18"
      },
      "source": [
        "train_data[train_data['target'] == 1]['posEntryMode'].value_counts()"
      ],
      "execution_count": 28,
      "outputs": [
        {
          "output_type": "execute_result",
          "data": {
            "text/plain": [
              "81    618\n",
              "1     188\n",
              "5      17\n",
              "90      9\n",
              "2       2\n",
              "0       2\n",
              "Name: posEntryMode, dtype: int64"
            ]
          },
          "metadata": {},
          "execution_count": 28
        }
      ]
    },
    {
      "cell_type": "markdown",
      "metadata": {
        "id": "cZZBuNInw-_-"
      },
      "source": [
        "Most of the transactions come from POS Entry Circuit Card, and most fraudulent transactions come from POS Entry E-Commerce"
      ]
    },
    {
      "cell_type": "markdown",
      "metadata": {
        "id": "Bi1voo3JxEKd"
      },
      "source": [
        "###### Exploring Time"
      ]
    },
    {
      "cell_type": "markdown",
      "metadata": {
        "id": "FB0uuDRNxImA"
      },
      "source": [
        "Difference in median time between given accounts with fraudulent transactions and non-fraudulent transactions."
      ]
    },
    {
      "cell_type": "code",
      "metadata": {
        "id": "eQBDZaomw-wr"
      },
      "source": [
        "# median time of fraudulent transactions by account number\n",
        "fraud_time_med = []\n",
        "\n",
        "for account in train_data[train_data['target']==1]['accountNumber'].unique().tolist():\n",
        "  acc_time = get_time_difference(train_data, 'accountNumber', account, 'transactionTime', 1)\n",
        "  if len(acc_time) == 0:\n",
        "    fraud_time_med.append(0)\n",
        "  else:\n",
        "    fraud_time_med.append(np.median(acc_time))\n",
        "\n",
        "# median time of non-fraudulent transactions by account number\n",
        "non_fraud_time_med = []\n",
        "\n",
        "for account in train_data[train_data['target'] == 0]['accountNumber'].unique().tolist():\n",
        "  acc_time = get_time_difference(train_data, 'accountNumber', account, 'transactionTime', 0)\n",
        "  if len(acc_time) == 0:\n",
        "    non_fraud_time_med.append(0)\n",
        "  else:\n",
        "    non_fraud_time_med.append(np.median(acc_time))"
      ],
      "execution_count": 29,
      "outputs": []
    },
    {
      "cell_type": "code",
      "metadata": {
        "colab": {
          "base_uri": "https://localhost:8080/"
        },
        "id": "2b00Kfz8xbWw",
        "outputId": "13a882dd-f8ba-457b-e5f8-c2ca2a8eef0c"
      },
      "source": [
        "print(f'fraud: {np.median(fraud_time_med)}')\n",
        "print(f'not-fraud: {np.median(non_fraud_time_med)}')"
      ],
      "execution_count": 30,
      "outputs": [
        {
          "output_type": "stream",
          "text": [
            "fraud: 13.958333333333332\n",
            "not-fraud: 8012.758333333333\n"
          ],
          "name": "stdout"
        }
      ]
    },
    {
      "cell_type": "markdown",
      "metadata": {
        "id": "HwZwbEk0xdot"
      },
      "source": [
        "Fraud transactions happen in a shorter span of time then regular ones."
      ]
    },
    {
      "cell_type": "code",
      "metadata": {
        "colab": {
          "base_uri": "https://localhost:8080/",
          "height": 295
        },
        "id": "ks0JLWZdxeE8",
        "outputId": "55b80276-990b-4325-b64b-402e31ead251"
      },
      "source": [
        "# comparing distribution between fraud and non-fraud transactions within the first hour\n",
        "ax = sns.histplot([i for i in non_fraud_time_med if i != 0 and i < 60], color='green')\n",
        "sns.histplot([i for i in fraud_time_med if i != 0 and i < 60])\n",
        "ax.set(xlabel='Median time in Minutes', ylabel='Count', title='Difference in median time on accounts between transactions')\n",
        "plt.show()"
      ],
      "execution_count": 31,
      "outputs": [
        {
          "output_type": "display_data",
          "data": {
            "image/png": "[encoded data removed]",
            "text/plain": [
              "<Figure size 432x288 with 1 Axes>"
            ]
          },
          "metadata": {
            "needs_background": "light"
          }
        }
      ]
    },
    {
      "cell_type": "markdown",
      "metadata": {
        "id": "QauXJa7pxkwl"
      },
      "source": [
        "From this plot we can see that fraudulent transactions happen consecutively more often in the first 15 minutes than legitimate transactions.\n",
        "\n",
        "A good business decision would be to block the card if more than 4-5 consecutive transactions happen in the first 5-10 minutes, until client can confirm transactions over the app, or via call from customer support agent. For example."
      ]
    },
    {
      "cell_type": "markdown",
      "metadata": {
        "id": "1uS1DM9oxrbr"
      },
      "source": [
        "###### Exploring continues variables"
      ]
    },
    {
      "cell_type": "code",
      "metadata": {
        "colab": {
          "base_uri": "https://localhost:8080/"
        },
        "id": "cEOanf1rxpaS",
        "outputId": "d6ad297d-65e0-4319-ba91-168ae9e1a74e"
      },
      "source": [
        "print(f\"fraud median: {train_data[train_data['target'] == 1]['transactionAmount'].median()}\")\n",
        "print(f\"non-fraud median: {train_data[train_data['target'] == 0]['transactionAmount'].median()}\")"
      ],
      "execution_count": 32,
      "outputs": [
        {
          "output_type": "stream",
          "text": [
            "fraud median: 21.0\n",
            "non-fraud median: 20.32\n"
          ],
          "name": "stdout"
        }
      ]
    },
    {
      "cell_type": "code",
      "metadata": {
        "colab": {
          "base_uri": "https://localhost:8080/"
        },
        "id": "9f72i7gRxzff",
        "outputId": "a9883b9a-1626-4fb7-d030-a66825cc2abe"
      },
      "source": [
        "print(f\"fraud median: {train_data[train_data['target'] == 1]['availableCash'].median()}\")\n",
        "print(f\"non-fraud median: {train_data[train_data['target'] == 0]['availableCash'].median()}\")"
      ],
      "execution_count": 33,
      "outputs": [
        {
          "output_type": "stream",
          "text": [
            "fraud median: 4500.0\n",
            "non-fraud median: 7500.0\n"
          ],
          "name": "stdout"
        }
      ]
    },
    {
      "cell_type": "markdown",
      "metadata": {
        "id": "UsYase9Ex4Wq"
      },
      "source": [
        "We can spot a difference in available cash amount between fraud and non-fraud transactions. "
      ]
    },
    {
      "cell_type": "code",
      "metadata": {
        "id": "OTyXU6PMsW0B"
      },
      "source": [
        "url = \"https://developers.google.com/public-data/docs/canonical/countries_csv\"\n",
        "page = requests.get(url)\n",
        "soup = BeautifulSoup(page.content, \"html.parser\")\n",
        "\n",
        "df_test = zip_encoder(data, pgeocode, pycountry, soup)"
      ],
      "execution_count": 20,
      "outputs": []
    },
    {
      "cell_type": "markdown",
      "metadata": {
        "id": "6msVHcmVz2CB"
      },
      "source": [
        "# Baseline Model"
      ]
    },
    {
      "cell_type": "code",
      "metadata": {
        "id": "mnQzyjFJz4db"
      },
      "source": [
        "x_train = data[data['transactionTime'] < '2017-12-01'].drop(['reportedTime', 'target', 'eventId'], axis=1).fillna('unknown')\n",
        "y_train = data[data['transactionTime'] < '2017-12-01']['target']\n",
        "\n",
        "x_valid = data[data['transactionTime'] > '2017-12-01'].drop(['reportedTime', 'target', 'eventId'], axis=1).fillna('unknown')\n",
        "y_valid = data[data['transactionTime'] > '2017-12-01']['target']"
      ],
      "execution_count": 54,
      "outputs": []
    },
    {
      "cell_type": "code",
      "metadata": {
        "colab": {
          "base_uri": "https://localhost:8080/"
        },
        "id": "io7eIGJF6U8i",
        "outputId": "83a569ec-24ff-4477-ec9f-76dde31c5bcd"
      },
      "source": [
        "y_valid.value_counts()"
      ],
      "execution_count": 60,
      "outputs": [
        {
          "output_type": "execute_result",
          "data": {
            "text/plain": [
              "0.0    17574\n",
              "1.0       83\n",
              "Name: target, dtype: int64"
            ]
          },
          "metadata": {},
          "execution_count": 60
        }
      ]
    },
    {
      "cell_type": "code",
      "metadata": {
        "colab": {
          "base_uri": "https://localhost:8080/",
          "height": 419
        },
        "id": "K1QeLp8M6Nev",
        "outputId": "f574854f-fff6-48b8-cb57-7e9316b8f5fe"
      },
      "source": [
        "x_valid"
      ],
      "execution_count": 58,
      "outputs": [
        {
          "output_type": "execute_result",
          "data": {
            "text/html": [
              "<div>\n",
              "<style scoped>\n",
              "    .dataframe tbody tr th:only-of-type {\n",
              "        vertical-align: middle;\n",
              "    }\n",
              "\n",
              "    .dataframe tbody tr th {\n",
              "        vertical-align: top;\n",
              "    }\n",
              "\n",
              "    .dataframe thead th {\n",
              "        text-align: right;\n",
              "    }\n",
              "</style>\n",
              "<table border=\"1\" class=\"dataframe\">\n",
              "  <thead>\n",
              "    <tr style=\"text-align: right;\">\n",
              "      <th></th>\n",
              "      <th>transactionTime</th>\n",
              "      <th>accountNumber</th>\n",
              "      <th>merchantId</th>\n",
              "      <th>mcc</th>\n",
              "      <th>merchantCountry</th>\n",
              "      <th>merchantZip</th>\n",
              "      <th>posEntryMode</th>\n",
              "      <th>transactionAmount</th>\n",
              "      <th>availableCash</th>\n",
              "    </tr>\n",
              "  </thead>\n",
              "  <tbody>\n",
              "    <tr>\n",
              "      <th>100964</th>\n",
              "      <td>2017-12-01 00:21:45+00:00</td>\n",
              "      <td>414a54aa</td>\n",
              "      <td>4fd0ff</td>\n",
              "      <td>5735</td>\n",
              "      <td>442</td>\n",
              "      <td>unknown</td>\n",
              "      <td>81</td>\n",
              "      <td>7.47</td>\n",
              "      <td>11500</td>\n",
              "    </tr>\n",
              "    <tr>\n",
              "      <th>100965</th>\n",
              "      <td>2017-12-01 00:34:39+00:00</td>\n",
              "      <td>b9b98bc8</td>\n",
              "      <td>e7d776</td>\n",
              "      <td>5411</td>\n",
              "      <td>826</td>\n",
              "      <td>SO30</td>\n",
              "      <td>5</td>\n",
              "      <td>16.69</td>\n",
              "      <td>8500</td>\n",
              "    </tr>\n",
              "    <tr>\n",
              "      <th>100966</th>\n",
              "      <td>2017-12-01 00:32:34+00:00</td>\n",
              "      <td>79c36e79</td>\n",
              "      <td>bdc20d</td>\n",
              "      <td>5211</td>\n",
              "      <td>826</td>\n",
              "      <td>BH8</td>\n",
              "      <td>5</td>\n",
              "      <td>22.08</td>\n",
              "      <td>7500</td>\n",
              "    </tr>\n",
              "    <tr>\n",
              "      <th>100967</th>\n",
              "      <td>2017-12-01 00:11:50+00:00</td>\n",
              "      <td>67e26790</td>\n",
              "      <td>02db45</td>\n",
              "      <td>4214</td>\n",
              "      <td>826</td>\n",
              "      <td>TA21</td>\n",
              "      <td>1</td>\n",
              "      <td>200.70</td>\n",
              "      <td>4500</td>\n",
              "    </tr>\n",
              "    <tr>\n",
              "      <th>100968</th>\n",
              "      <td>2017-12-01 00:34:15+00:00</td>\n",
              "      <td>5715dce1</td>\n",
              "      <td>ed5960</td>\n",
              "      <td>5331</td>\n",
              "      <td>826</td>\n",
              "      <td>CB8</td>\n",
              "      <td>5</td>\n",
              "      <td>40.03</td>\n",
              "      <td>10500</td>\n",
              "    </tr>\n",
              "    <tr>\n",
              "      <th>...</th>\n",
              "      <td>...</td>\n",
              "      <td>...</td>\n",
              "      <td>...</td>\n",
              "      <td>...</td>\n",
              "      <td>...</td>\n",
              "      <td>...</td>\n",
              "      <td>...</td>\n",
              "      <td>...</td>\n",
              "      <td>...</td>\n",
              "    </tr>\n",
              "    <tr>\n",
              "      <th>118616</th>\n",
              "      <td>2018-01-30 23:52:16+00:00</td>\n",
              "      <td>d3c036ac</td>\n",
              "      <td>0b1dae</td>\n",
              "      <td>6300</td>\n",
              "      <td>826</td>\n",
              "      <td>NN1</td>\n",
              "      <td>81</td>\n",
              "      <td>50.91</td>\n",
              "      <td>7500</td>\n",
              "    </tr>\n",
              "    <tr>\n",
              "      <th>118617</th>\n",
              "      <td>2018-01-30 23:57:16+00:00</td>\n",
              "      <td>e0ad403a</td>\n",
              "      <td>e5d3c5</td>\n",
              "      <td>5812</td>\n",
              "      <td>826</td>\n",
              "      <td>TW9</td>\n",
              "      <td>5</td>\n",
              "      <td>71.00</td>\n",
              "      <td>10500</td>\n",
              "    </tr>\n",
              "    <tr>\n",
              "      <th>118618</th>\n",
              "      <td>2018-01-30 23:59:03+00:00</td>\n",
              "      <td>d3c036ac</td>\n",
              "      <td>0b1dae</td>\n",
              "      <td>6300</td>\n",
              "      <td>826</td>\n",
              "      <td>NN1</td>\n",
              "      <td>81</td>\n",
              "      <td>17.00</td>\n",
              "      <td>8500</td>\n",
              "    </tr>\n",
              "    <tr>\n",
              "      <th>118619</th>\n",
              "      <td>2018-01-31 00:04:44+00:00</td>\n",
              "      <td>ec212849</td>\n",
              "      <td>1ab20c</td>\n",
              "      <td>4812</td>\n",
              "      <td>826</td>\n",
              "      <td>SL1</td>\n",
              "      <td>1</td>\n",
              "      <td>11.00</td>\n",
              "      <td>7500</td>\n",
              "    </tr>\n",
              "    <tr>\n",
              "      <th>118620</th>\n",
              "      <td>2018-01-30 23:49:09+00:00</td>\n",
              "      <td>ec212849</td>\n",
              "      <td>1ef22b</td>\n",
              "      <td>4812</td>\n",
              "      <td>826</td>\n",
              "      <td>SL1</td>\n",
              "      <td>81</td>\n",
              "      <td>11.00</td>\n",
              "      <td>7500</td>\n",
              "    </tr>\n",
              "  </tbody>\n",
              "</table>\n",
              "<p>17657 rows × 9 columns</p>\n",
              "</div>"
            ],
            "text/plain": [
              "                 transactionTime  ... availableCash\n",
              "100964 2017-12-01 00:21:45+00:00  ...         11500\n",
              "100965 2017-12-01 00:34:39+00:00  ...          8500\n",
              "100966 2017-12-01 00:32:34+00:00  ...          7500\n",
              "100967 2017-12-01 00:11:50+00:00  ...          4500\n",
              "100968 2017-12-01 00:34:15+00:00  ...         10500\n",
              "...                          ...  ...           ...\n",
              "118616 2018-01-30 23:52:16+00:00  ...          7500\n",
              "118617 2018-01-30 23:57:16+00:00  ...         10500\n",
              "118618 2018-01-30 23:59:03+00:00  ...          8500\n",
              "118619 2018-01-31 00:04:44+00:00  ...          7500\n",
              "118620 2018-01-30 23:49:09+00:00  ...          7500\n",
              "\n",
              "[17657 rows x 9 columns]"
            ]
          },
          "metadata": {},
          "execution_count": 58
        }
      ]
    },
    {
      "cell_type": "code",
      "metadata": {
        "colab": {
          "base_uri": "https://localhost:8080/"
        },
        "id": "4vQS-dMz3yWb",
        "outputId": "1ea4306e-afce-464d-c684-35228ff35974"
      },
      "source": [
        "cat_features = ['accountNumber', 'merchantId', 'mcc', 'merchantCountry', 'merchantZip', 'posEntryMode']\n",
        "\n",
        "cbc = CatBoostClassifier(\n",
        "    random_seed=42,\n",
        "    verbose=100,\n",
        ")\n",
        "\n",
        "cbc.fit(x_train, y_train, cat_features = cat_features)  "
      ],
      "execution_count": 55,
      "outputs": [
        {
          "output_type": "stream",
          "text": [
            "Learning rate set to 0.073912\n",
            "0:\tlearn: 0.5311148\ttotal: 190ms\tremaining: 3m 9s\n",
            "100:\tlearn: 0.0140198\ttotal: 13s\tremaining: 1m 55s\n",
            "200:\tlearn: 0.0123758\ttotal: 27.2s\tremaining: 1m 48s\n",
            "300:\tlearn: 0.0112458\ttotal: 41.2s\tremaining: 1m 35s\n",
            "400:\tlearn: 0.0101686\ttotal: 55.9s\tremaining: 1m 23s\n",
            "500:\tlearn: 0.0094114\ttotal: 1m 10s\tremaining: 1m 10s\n",
            "600:\tlearn: 0.0087465\ttotal: 1m 24s\tremaining: 56.3s\n",
            "700:\tlearn: 0.0081013\ttotal: 1m 38s\tremaining: 42.2s\n",
            "800:\tlearn: 0.0075707\ttotal: 1m 53s\tremaining: 28.3s\n",
            "900:\tlearn: 0.0070323\ttotal: 2m 9s\tremaining: 14.2s\n",
            "999:\tlearn: 0.0065474\ttotal: 2m 24s\tremaining: 0us\n"
          ],
          "name": "stdout"
        },
        {
          "output_type": "execute_result",
          "data": {
            "text/plain": [
              "<catboost.core.CatBoostClassifier at 0x7f744f749610>"
            ]
          },
          "metadata": {},
          "execution_count": 55
        }
      ]
    },
    {
      "cell_type": "code",
      "metadata": {
        "colab": {
          "base_uri": "https://localhost:8080/"
        },
        "id": "JguRT9VU6nzI",
        "outputId": "1e041581-ea01-4438-d3e6-1256c5754a35"
      },
      "source": [
        "confusion_matrix(y_valid, cbc.predict(x_valid))"
      ],
      "execution_count": 67,
      "outputs": [
        {
          "output_type": "execute_result",
          "data": {
            "text/plain": [
              "array([[17563,    11],\n",
              "       [   82,     1]])"
            ]
          },
          "metadata": {},
          "execution_count": 67
        }
      ]
    },
    {
      "cell_type": "code",
      "metadata": {
        "colab": {
          "base_uri": "https://localhost:8080/"
        },
        "id": "uj4fSWZq63mB",
        "outputId": "acc1b2b1-e904-4278-f22a-0a2123da95b8"
      },
      "source": [
        "cbc.predict(x_valid)"
      ],
      "execution_count": 64,
      "outputs": [
        {
          "output_type": "execute_result",
          "data": {
            "text/plain": [
              "array([0., 0., 0., ..., 0., 0., 0.])"
            ]
          },
          "metadata": {},
          "execution_count": 64
        }
      ]
    },
    {
      "cell_type": "code",
      "metadata": {
        "colab": {
          "base_uri": "https://localhost:8080/"
        },
        "id": "yrXrut7Y6Cal",
        "outputId": "fa4ac681-3aa4-43c5-8708-1315d3bf66e0"
      },
      "source": [
        "roc_auc_score(y_valid, cbc.predict(x_valid))"
      ],
      "execution_count": 66,
      "outputs": [
        {
          "output_type": "execute_result",
          "data": {
            "text/plain": [
              "0.5057111340548263"
            ]
          },
          "metadata": {},
          "execution_count": 66
        }
      ]
    }
  ]
}