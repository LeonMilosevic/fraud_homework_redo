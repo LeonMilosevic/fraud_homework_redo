{
  "nbformat": 4,
  "nbformat_minor": 0,
  "metadata": {
    "colab": {
      "name": "fraud_homework_redo",
      "provenance": [],
      "authorship_tag": "ABX9TyPsroic51WkXGZYiP2kogmO",
      "include_colab_link": true
    },
    "kernelspec": {
      "name": "python3",
      "display_name": "Python 3"
    },
    "language_info": {
      "name": "python"
    }
  },
  "cells": [
    {
      "cell_type": "markdown",
      "metadata": {
        "id": "view-in-github",
        "colab_type": "text"
      },
      "source": [
        "<a href=\"https://colab.research.google.com/github/LeonMilosevic/fraud_homework_redo/blob/main/fraud_homework_redo.ipynb\" target=\"_parent\"><img src=\"https://colab.research.google.com/assets/colab-badge.svg\" alt=\"Open In Colab\"/></a>"
      ]
    },
    {
      "cell_type": "markdown",
      "metadata": {
        "id": "53lv5OwEYQv2"
      },
      "source": [
        "# Concept of the Notebook"
      ]
    },
    {
      "cell_type": "markdown",
      "metadata": {
        "id": "nvLGjsjsYUhp"
      },
      "source": [
        "Notebook will consists out of 5 parts.\n",
        "\n",
        "1. Analysis\n",
        "  - Explore the dataset\n",
        "  - Find insights\n",
        "  - Draw conclusions\n",
        "  - Get ideas for feature engineering\n",
        "\n",
        "2. Base model\n",
        "  - We will create a base model and have a benchmark for the performence.\n",
        "\n",
        "3. Feature Engineering\n",
        "  - Improve the results and build upon discoveries from Analysis part.\n",
        "\n",
        "4. Modeling\n",
        "  - Model optimization, and performence tuning.\n",
        "  - Draw business conclusions\n",
        "\n",
        "5. Business presentation and final conclusions.\n",
        "  - We will make a conclusion, sum up all previous chapters, present our solution and advice on how to improve the business model of detecting fraudulent transactions."
      ]
    },
    {
      "cell_type": "markdown",
      "metadata": {
        "id": "25orqDOxaAwK"
      },
      "source": [
        "# Imports and libraries "
      ]
    },
    {
      "cell_type": "code",
      "metadata": {
        "id": "lEOf0P6DaMCJ",
        "colab": {
          "base_uri": "https://localhost:8080/"
        },
        "outputId": "87fb9ef8-c32f-409a-a35c-1de11402fad7"
      },
      "source": [
        "!pip install pgeocode\n",
        "!pip install folium\n",
        "!pip install pycountry\n",
        "!pip install beautifulsoup4\n",
        "!pip install catboost"
      ],
      "execution_count": 3,
      "outputs": [
        {
          "output_type": "stream",
          "name": "stdout",
          "text": [
            "Requirement already satisfied: pgeocode in /usr/local/lib/python3.7/dist-packages (0.3.0)\n",
            "Requirement already satisfied: requests in /usr/local/lib/python3.7/dist-packages (from pgeocode) (2.23.0)\n",
            "Requirement already satisfied: pandas in /usr/local/lib/python3.7/dist-packages (from pgeocode) (1.1.5)\n",
            "Requirement already satisfied: numpy in /usr/local/lib/python3.7/dist-packages (from pgeocode) (1.19.5)\n",
            "Requirement already satisfied: python-dateutil>=2.7.3 in /usr/local/lib/python3.7/dist-packages (from pandas->pgeocode) (2.8.2)\n",
            "Requirement already satisfied: pytz>=2017.2 in /usr/local/lib/python3.7/dist-packages (from pandas->pgeocode) (2018.9)\n",
            "Requirement already satisfied: six>=1.5 in /usr/local/lib/python3.7/dist-packages (from python-dateutil>=2.7.3->pandas->pgeocode) (1.15.0)\n",
            "Requirement already satisfied: idna<3,>=2.5 in /usr/local/lib/python3.7/dist-packages (from requests->pgeocode) (2.10)\n",
            "Requirement already satisfied: chardet<4,>=3.0.2 in /usr/local/lib/python3.7/dist-packages (from requests->pgeocode) (3.0.4)\n",
            "Requirement already satisfied: certifi>=2017.4.17 in /usr/local/lib/python3.7/dist-packages (from requests->pgeocode) (2021.5.30)\n",
            "Requirement already satisfied: urllib3!=1.25.0,!=1.25.1,<1.26,>=1.21.1 in /usr/local/lib/python3.7/dist-packages (from requests->pgeocode) (1.24.3)\n",
            "Requirement already satisfied: folium in /usr/local/lib/python3.7/dist-packages (0.8.3)\n",
            "Requirement already satisfied: requests in /usr/local/lib/python3.7/dist-packages (from folium) (2.23.0)\n",
            "Requirement already satisfied: numpy in /usr/local/lib/python3.7/dist-packages (from folium) (1.19.5)\n",
            "Requirement already satisfied: jinja2 in /usr/local/lib/python3.7/dist-packages (from folium) (2.11.3)\n",
            "Requirement already satisfied: branca>=0.3.0 in /usr/local/lib/python3.7/dist-packages (from folium) (0.4.2)\n",
            "Requirement already satisfied: six in /usr/local/lib/python3.7/dist-packages (from folium) (1.15.0)\n",
            "Requirement already satisfied: MarkupSafe>=0.23 in /usr/local/lib/python3.7/dist-packages (from jinja2->folium) (2.0.1)\n",
            "Requirement already satisfied: chardet<4,>=3.0.2 in /usr/local/lib/python3.7/dist-packages (from requests->folium) (3.0.4)\n",
            "Requirement already satisfied: certifi>=2017.4.17 in /usr/local/lib/python3.7/dist-packages (from requests->folium) (2021.5.30)\n",
            "Requirement already satisfied: idna<3,>=2.5 in /usr/local/lib/python3.7/dist-packages (from requests->folium) (2.10)\n",
            "Requirement already satisfied: urllib3!=1.25.0,!=1.25.1,<1.26,>=1.21.1 in /usr/local/lib/python3.7/dist-packages (from requests->folium) (1.24.3)\n",
            "Requirement already satisfied: pycountry in /usr/local/lib/python3.7/dist-packages (20.7.3)\n",
            "Requirement already satisfied: beautifulsoup4 in /usr/local/lib/python3.7/dist-packages (4.6.3)\n",
            "Requirement already satisfied: catboost in /usr/local/lib/python3.7/dist-packages (0.26.1)\n",
            "Requirement already satisfied: numpy>=1.16.0 in /usr/local/lib/python3.7/dist-packages (from catboost) (1.19.5)\n",
            "Requirement already satisfied: pandas>=0.24.0 in /usr/local/lib/python3.7/dist-packages (from catboost) (1.1.5)\n",
            "Requirement already satisfied: six in /usr/local/lib/python3.7/dist-packages (from catboost) (1.15.0)\n",
            "Requirement already satisfied: plotly in /usr/local/lib/python3.7/dist-packages (from catboost) (4.4.1)\n",
            "Requirement already satisfied: scipy in /usr/local/lib/python3.7/dist-packages (from catboost) (1.4.1)\n",
            "Requirement already satisfied: matplotlib in /usr/local/lib/python3.7/dist-packages (from catboost) (3.2.2)\n",
            "Requirement already satisfied: graphviz in /usr/local/lib/python3.7/dist-packages (from catboost) (0.10.1)\n",
            "Requirement already satisfied: python-dateutil>=2.7.3 in /usr/local/lib/python3.7/dist-packages (from pandas>=0.24.0->catboost) (2.8.2)\n",
            "Requirement already satisfied: pytz>=2017.2 in /usr/local/lib/python3.7/dist-packages (from pandas>=0.24.0->catboost) (2018.9)\n",
            "Requirement already satisfied: kiwisolver>=1.0.1 in /usr/local/lib/python3.7/dist-packages (from matplotlib->catboost) (1.3.1)\n",
            "Requirement already satisfied: cycler>=0.10 in /usr/local/lib/python3.7/dist-packages (from matplotlib->catboost) (0.10.0)\n",
            "Requirement already satisfied: pyparsing!=2.0.4,!=2.1.2,!=2.1.6,>=2.0.1 in /usr/local/lib/python3.7/dist-packages (from matplotlib->catboost) (2.4.7)\n",
            "Requirement already satisfied: retrying>=1.3.3 in /usr/local/lib/python3.7/dist-packages (from plotly->catboost) (1.3.3)\n"
          ]
        }
      ]
    },
    {
      "cell_type": "code",
      "metadata": {
        "id": "ZZWZ4UU3aDpA"
      },
      "source": [
        "import pandas as pd\n",
        "import numpy as np\n",
        "import seaborn as sns\n",
        "import matplotlib.pyplot as plt\n",
        "import re\n",
        "from statistics import mean\n",
        "\n",
        "from catboost import CatBoostClassifier\n",
        "\n",
        "from sklearn.metrics import roc_auc_score\n",
        "from sklearn.metrics import confusion_matrix\n",
        "\n",
        "import pycountry\n",
        "import pgeocode\n",
        "import folium\n",
        "from folium import Marker\n",
        "\n",
        "from scipy import stats\n",
        "\n",
        "from bs4 import BeautifulSoup\n",
        "import requests\n",
        "\n",
        "from helper_functions import get_postal_code, get_time_difference, check_missing_values, split_zip_codes, zip_encoder\n",
        "\n",
        "import warnings\n",
        "warnings.filterwarnings('ignore')"
      ],
      "execution_count": 4,
      "outputs": []
    },
    {
      "cell_type": "markdown",
      "metadata": {
        "id": "CkpAoA_aYIDM"
      },
      "source": [
        "# Analysis"
      ]
    },
    {
      "cell_type": "code",
      "metadata": {
        "colab": {
          "base_uri": "https://localhost:8080/"
        },
        "id": "W1OePA2rX4rG",
        "outputId": "62e0eb05-b1f8-4c28-ac92-105148fe4792"
      },
      "source": [
        "transaction_data = pd.read_csv('transactions_obf.csv')\n",
        "labels_data = pd.read_csv('labels_obf.csv')\n",
        "\n",
        "# adding target value to labels_data and merging the dataframes\n",
        "labels_data['target'] = 1\n",
        "data = pd.merge(transaction_data, labels_data, how=\"left\", on=\"eventId\")\n",
        "\n",
        "data[['target']] = data[['target']].fillna(value=0)\n",
        "\n",
        "# converting time column and setting time as index\n",
        "data['transactionTime'] = pd.to_datetime(data['transactionTime'])\n",
        "\n",
        "data.shape"
      ],
      "execution_count": 5,
      "outputs": [
        {
          "output_type": "execute_result",
          "data": {
            "text/plain": [
              "(118621, 12)"
            ]
          },
          "metadata": {},
          "execution_count": 5
        }
      ]
    },
    {
      "cell_type": "markdown",
      "metadata": {
        "id": "Fl74yTEGd021"
      },
      "source": [
        "###### Split into train/test data based on time"
      ]
    },
    {
      "cell_type": "code",
      "metadata": {
        "colab": {
          "base_uri": "https://localhost:8080/"
        },
        "id": "yL96ZPQrd5QG",
        "outputId": "5b17b73e-ba66-428e-dd25-02ba10c6f3c7"
      },
      "source": [
        "train_data = data[data['transactionTime'] < \"2018-01-01\"]\n",
        "test_data = data[data['transactionTime'] > \"2018-01-01\"]\n",
        "\n",
        "print(train_data.shape)\n",
        "print(test_data.shape)"
      ],
      "execution_count": 6,
      "outputs": [
        {
          "output_type": "stream",
          "name": "stdout",
          "text": [
            "(110090, 12)\n",
            "(8531, 12)\n"
          ]
        }
      ]
    },
    {
      "cell_type": "markdown",
      "metadata": {
        "id": "wztCi8nPe7SL"
      },
      "source": [
        "###### Target Distribution"
      ]
    },
    {
      "cell_type": "code",
      "metadata": {
        "colab": {
          "base_uri": "https://localhost:8080/"
        },
        "id": "VyBeG5wdfFTP",
        "outputId": "ab4c11cc-8834-426d-8634-b9e12db8a7af"
      },
      "source": [
        "# proportion of fraud transactions\n",
        "train_data['target'].value_counts(normalize=True)"
      ],
      "execution_count": 7,
      "outputs": [
        {
          "output_type": "execute_result",
          "data": {
            "text/plain": [
              "0.0    0.992406\n",
              "1.0    0.007594\n",
              "Name: target, dtype: float64"
            ]
          },
          "metadata": {},
          "execution_count": 7
        }
      ]
    },
    {
      "cell_type": "markdown",
      "metadata": {
        "id": "Ra7ybJt3fJva"
      },
      "source": [
        "- We are dealing with class imbalance"
      ]
    },
    {
      "cell_type": "markdown",
      "metadata": {
        "id": "MxHtNg5OfNqD"
      },
      "source": [
        "###### Total transactions per country"
      ]
    },
    {
      "cell_type": "code",
      "metadata": {
        "colab": {
          "base_uri": "https://localhost:8080/"
        },
        "id": "1ZGU3eDhf3gz",
        "outputId": "aafa89cb-43e6-4354-afcc-44e16b101cc9"
      },
      "source": [
        "train_data.groupby(['merchantCountry']).target.count().sort_values(ascending=False).head(5)"
      ],
      "execution_count": 8,
      "outputs": [
        {
          "output_type": "execute_result",
          "data": {
            "text/plain": [
              "merchantCountry\n",
              "826    88908\n",
              "442    13819\n",
              "840     2640\n",
              "372     1236\n",
              "250      429\n",
              "Name: target, dtype: int64"
            ]
          },
          "metadata": {},
          "execution_count": 8
        }
      ]
    },
    {
      "cell_type": "markdown",
      "metadata": {
        "id": "3KO_pIyZgEpQ"
      },
      "source": [
        "We can see that most of the transactions come from Great Britain,\n",
        "since country code 826 = GB"
      ]
    },
    {
      "cell_type": "markdown",
      "metadata": {
        "id": "kwA-4LOzhE14"
      },
      "source": [
        "###### Zip Codes per country"
      ]
    },
    {
      "cell_type": "code",
      "metadata": {
        "colab": {
          "base_uri": "https://localhost:8080/",
          "height": 204
        },
        "id": "8pNuY3CpfSTB",
        "outputId": "1b4b452c-5f52-4e09-e5ca-3e6dd1df5cba"
      },
      "source": [
        "# transform to uppercase as to avoid same values with different cases\n",
        "train_data['merchantZip'] = train_data['merchantZip'].str.upper()\n",
        "\n",
        "# getting unique countries values\n",
        "unique_countries = train_data['merchantCountry'].unique().tolist()\n",
        "\n",
        "# number of unique zip codes per country\n",
        "unique_zips = []\n",
        "for i in unique_countries:\n",
        "  unique_zips.append(len(train_data.loc[train_data['merchantCountry'] == i]['merchantZip'].unique()))\n",
        "\n",
        "temp_data = {\"country_code\": unique_countries, \"num_of_unique_zip_codes\": unique_zips}\n",
        "zip_codes_per_country_df = pd.DataFrame(temp_data)\n",
        "zip_codes_per_country_df.head(5)"
      ],
      "execution_count": 9,
      "outputs": [
        {
          "output_type": "execute_result",
          "data": {
            "text/html": [
              "<div>\n",
              "<style scoped>\n",
              "    .dataframe tbody tr th:only-of-type {\n",
              "        vertical-align: middle;\n",
              "    }\n",
              "\n",
              "    .dataframe tbody tr th {\n",
              "        vertical-align: top;\n",
              "    }\n",
              "\n",
              "    .dataframe thead th {\n",
              "        text-align: right;\n",
              "    }\n",
              "</style>\n",
              "<table border=\"1\" class=\"dataframe\">\n",
              "  <thead>\n",
              "    <tr style=\"text-align: right;\">\n",
              "      <th></th>\n",
              "      <th>country_code</th>\n",
              "      <th>num_of_unique_zip_codes</th>\n",
              "    </tr>\n",
              "  </thead>\n",
              "  <tbody>\n",
              "    <tr>\n",
              "      <th>0</th>\n",
              "      <td>826</td>\n",
              "      <td>3099</td>\n",
              "    </tr>\n",
              "    <tr>\n",
              "      <th>1</th>\n",
              "      <td>442</td>\n",
              "      <td>1</td>\n",
              "    </tr>\n",
              "    <tr>\n",
              "      <th>2</th>\n",
              "      <td>392</td>\n",
              "      <td>1</td>\n",
              "    </tr>\n",
              "    <tr>\n",
              "      <th>3</th>\n",
              "      <td>36</td>\n",
              "      <td>1</td>\n",
              "    </tr>\n",
              "    <tr>\n",
              "      <th>4</th>\n",
              "      <td>372</td>\n",
              "      <td>1</td>\n",
              "    </tr>\n",
              "  </tbody>\n",
              "</table>\n",
              "</div>"
            ],
            "text/plain": [
              "   country_code  num_of_unique_zip_codes\n",
              "0           826                     3099\n",
              "1           442                        1\n",
              "2           392                        1\n",
              "3            36                        1\n",
              "4           372                        1"
            ]
          },
          "metadata": {},
          "execution_count": 9
        }
      ]
    },
    {
      "cell_type": "code",
      "metadata": {
        "colab": {
          "base_uri": "https://localhost:8080/"
        },
        "id": "1V92zphZhQCe",
        "outputId": "a2401f7e-d92d-4899-e422-51924ea8ae43"
      },
      "source": [
        "len(train_data['merchantZip'].unique())"
      ],
      "execution_count": 10,
      "outputs": [
        {
          "output_type": "execute_result",
          "data": {
            "text/plain": [
              "3100"
            ]
          },
          "metadata": {},
          "execution_count": 10
        }
      ]
    },
    {
      "cell_type": "markdown",
      "metadata": {
        "id": "gPKWEIkahYBh"
      },
      "source": [
        "We can see that all merchant zip codes come from Great Britain, while zip codes from countries other than GB were not registered or are unknown."
      ]
    },
    {
      "cell_type": "markdown",
      "metadata": {
        "id": "3hJw96PghwaM"
      },
      "source": [
        "###### Taking a closer look at GB"
      ]
    },
    {
      "cell_type": "code",
      "metadata": {
        "colab": {
          "base_uri": "https://localhost:8080/"
        },
        "id": "_gEXX890hzXC",
        "outputId": "17602d08-3bcf-4cae-d5b2-2741715e6752"
      },
      "source": [
        "gb_data = train_data.loc[train_data['merchantCountry'] == 826]\n",
        "\n",
        "# total unique number of strings lengths for zip codes\n",
        "zip_lengths = len(gb_data['merchantZip'].str.len().value_counts().index.to_list())\n",
        "\n",
        "# number of unique zip code values based on their length\n",
        "for i in range(zip_lengths):\n",
        "  print(i+1, len(gb_data.loc[gb_data['merchantZip'].str.len() == i+1]['merchantZip'].unique()))"
      ],
      "execution_count": 11,
      "outputs": [
        {
          "output_type": "stream",
          "name": "stdout",
          "text": [
            "1 2\n",
            "2 4\n",
            "3 1087\n",
            "4 1263\n",
            "5 743\n"
          ]
        }
      ]
    },
    {
      "cell_type": "markdown",
      "metadata": {
        "id": "153MpnkGknnK"
      },
      "source": [
        "**Note:** Zip Code Fact 1.0\n",
        "\n",
        "* Zip code pattern for GB is letter+digit"
      ]
    },
    {
      "cell_type": "markdown",
      "metadata": {
        "id": "5B-hDPjZlSIT"
      },
      "source": [
        "###### Invalid Zip codes, based on Zip Code Fact 1.0"
      ]
    },
    {
      "cell_type": "code",
      "metadata": {
        "id": "VUmXs0pfT7Jp"
      },
      "source": [
        "# finding non alpha numeric values\n",
        "non_alpha_numeric = gb_data[gb_data['merchantZip'].str.contains('(\\W+)')]['merchantZip'].unique().tolist()\n",
        "\n",
        "# finding values that only contain digits\n",
        "only_numeric = gb_data[gb_data['merchantZip'].str.contains('^([\\s\\d]+)$')]['merchantZip'].unique().tolist()\n",
        "\n",
        "# finding values that only contain alphabetic chars\n",
        "only_alphabetic_chars = gb_data[gb_data['merchantZip'].str.contains('^[a-zA-Z]+$')]['merchantZip'].unique().tolist()\n",
        "\n",
        "invalid_zip_values = non_alpha_numeric + only_numeric + only_alphabetic_chars"
      ],
      "execution_count": 12,
      "outputs": []
    },
    {
      "cell_type": "code",
      "metadata": {
        "colab": {
          "base_uri": "https://localhost:8080/"
        },
        "id": "RTzYJwVTVPky",
        "outputId": "d9c50b51-50a5-4727-f2b9-04c6f8435974"
      },
      "source": [
        "invalid_zip_values[:5]"
      ],
      "execution_count": 13,
      "outputs": [
        {
          "output_type": "execute_result",
          "data": {
            "text/plain": [
              "['....', '...', '***', '.....', '**']"
            ]
          },
          "metadata": {},
          "execution_count": 13
        }
      ]
    },
    {
      "cell_type": "markdown",
      "metadata": {
        "id": "UaJlubrkVFTP"
      },
      "source": [
        "###### Number of transactions for each invalid zip code"
      ]
    },
    {
      "cell_type": "code",
      "metadata": {
        "colab": {
          "base_uri": "https://localhost:8080/",
          "height": 204
        },
        "id": "xayygK9IVIBR",
        "outputId": "315e608f-8d2d-4f44-9c18-d76319924ad8"
      },
      "source": [
        "invalid_zip_transactions = []\n",
        "for zip in invalid_zip_values:\n",
        "  invalid_zip_transactions.append(gb_data.loc[gb_data['merchantZip'] == zip].shape[0])\n",
        "\n",
        "temp_data = {\"zip_codes\": invalid_zip_values, \"transactions\": invalid_zip_transactions}\n",
        "df = pd.DataFrame(temp_data)\n",
        "\n",
        "df.sort_values(by=['transactions'], ascending=False).head(5)"
      ],
      "execution_count": 14,
      "outputs": [
        {
          "output_type": "execute_result",
          "data": {
            "text/html": [
              "<div>\n",
              "<style scoped>\n",
              "    .dataframe tbody tr th:only-of-type {\n",
              "        vertical-align: middle;\n",
              "    }\n",
              "\n",
              "    .dataframe tbody tr th {\n",
              "        vertical-align: top;\n",
              "    }\n",
              "\n",
              "    .dataframe thead th {\n",
              "        text-align: right;\n",
              "    }\n",
              "</style>\n",
              "<table border=\"1\" class=\"dataframe\">\n",
              "  <thead>\n",
              "    <tr style=\"text-align: right;\">\n",
              "      <th></th>\n",
              "      <th>zip_codes</th>\n",
              "      <th>transactions</th>\n",
              "    </tr>\n",
              "  </thead>\n",
              "  <tbody>\n",
              "    <tr>\n",
              "      <th>6</th>\n",
              "      <td>0</td>\n",
              "      <td>13554</td>\n",
              "    </tr>\n",
              "    <tr>\n",
              "      <th>1</th>\n",
              "      <td>...</td>\n",
              "      <td>374</td>\n",
              "    </tr>\n",
              "    <tr>\n",
              "      <th>0</th>\n",
              "      <td>....</td>\n",
              "      <td>361</td>\n",
              "    </tr>\n",
              "    <tr>\n",
              "      <th>7</th>\n",
              "      <td>11111</td>\n",
              "      <td>35</td>\n",
              "    </tr>\n",
              "    <tr>\n",
              "      <th>19</th>\n",
              "      <td>F</td>\n",
              "      <td>27</td>\n",
              "    </tr>\n",
              "  </tbody>\n",
              "</table>\n",
              "</div>"
            ],
            "text/plain": [
              "   zip_codes  transactions\n",
              "6          0         13554\n",
              "1        ...           374\n",
              "0       ....           361\n",
              "7      11111            35\n",
              "19         F            27"
            ]
          },
          "metadata": {},
          "execution_count": 14
        }
      ]
    },
    {
      "cell_type": "code",
      "metadata": {
        "colab": {
          "base_uri": "https://localhost:8080/"
        },
        "id": "srtuqWDyaXqj",
        "outputId": "b337c730-01a7-4023-f938-86d76d05115e"
      },
      "source": [
        "# count of transactions for valid + invalid zip values\n",
        "gb_data.groupby(['merchantZip']).count().target.sort_values(ascending=False)"
      ],
      "execution_count": 15,
      "outputs": [
        {
          "output_type": "execute_result",
          "data": {
            "text/plain": [
              "merchantZip\n",
              "0        13554\n",
              "E12       1063\n",
              "SL4        614\n",
              "LS11       570\n",
              "CO10       512\n",
              "         ...  \n",
              "E83NS        1\n",
              "E83DG        1\n",
              "E82NS        1\n",
              "E82JP        1\n",
              "YO8          1\n",
              "Name: target, Length: 3099, dtype: int64"
            ]
          },
          "metadata": {},
          "execution_count": 15
        }
      ]
    },
    {
      "cell_type": "markdown",
      "metadata": {
        "id": "3gDAYFoCajsQ"
      },
      "source": [
        "Given that merchantZip \"0\" has the highest number of transactions in GB, we can't assume that it is coming from one/same location. We should then encode it as a geolocation from GB."
      ]
    },
    {
      "cell_type": "markdown",
      "metadata": {
        "id": "qNu73x8Vazpy"
      },
      "source": [
        "**Note:** Zip Code Fact 1.1\n",
        "\n",
        "* All codes in GB that have 5 characters, have space before 3rd character"
      ]
    },
    {
      "cell_type": "markdown",
      "metadata": {
        "id": "jVFQQ7sHbQ1T"
      },
      "source": [
        "###### Fixing zip codes based on Zip Code Fact 1.1"
      ]
    },
    {
      "cell_type": "code",
      "metadata": {
        "id": "fBp4nCztaiz2"
      },
      "source": [
        "gb_data['merchantZip'] = split_zip_codes(gb_data, 5)"
      ],
      "execution_count": 16,
      "outputs": []
    },
    {
      "cell_type": "markdown",
      "metadata": {
        "id": "kUp7Dy5GbaCM"
      },
      "source": [
        "###### Adding longitude and latitude to each sample based on Zip address"
      ]
    },
    {
      "cell_type": "code",
      "metadata": {
        "colab": {
          "base_uri": "https://localhost:8080/"
        },
        "id": "xX49yVeobX8x",
        "outputId": "28609069-1202-49bc-b677-f08035da95d0"
      },
      "source": [
        "nomi = pgeocode.Nominatim('gb')\n",
        "\n",
        "# encoding known zip codes\n",
        "gb_zip_codes = pd.DataFrame({\"zip_codes\": gb_data['merchantZip'].unique()})\n",
        "\n",
        "gb_zip_codes[['Latitude', 'Longitude', 'state_name']] = gb_zip_codes.apply(lambda x: get_postal_code(nomi, x['zip_codes']), axis=1)\n",
        "\n",
        "print(\"{}% of addresses were geocoded!\".format(\n",
        "    (1 - sum(np.isnan(gb_zip_codes[\"Latitude\"])) / len(gb_zip_codes)) * 100))"
      ],
      "execution_count": 17,
      "outputs": [
        {
          "output_type": "stream",
          "name": "stdout",
          "text": [
            "95.70829299774121% of addresses were geocoded!\n"
          ]
        }
      ]
    },
    {
      "cell_type": "code",
      "metadata": {
        "colab": {
          "base_uri": "https://localhost:8080/"
        },
        "id": "kJP091yRb3s0",
        "outputId": "a526acbe-c113-4502-d7ae-389907085d48"
      },
      "source": [
        "not_found_zip_codes = gb_zip_codes[gb_zip_codes['Latitude'].isnull()]\n",
        "not_found_zip_codes['zip_codes'].str.len().value_counts()"
      ],
      "execution_count": 18,
      "outputs": [
        {
          "output_type": "execute_result",
          "data": {
            "text/plain": [
              "4    70\n",
              "3    41\n",
              "6    16\n",
              "2     4\n",
              "1     2\n",
              "Name: zip_codes, dtype: int64"
            ]
          },
          "metadata": {},
          "execution_count": 18
        }
      ]
    },
    {
      "cell_type": "markdown",
      "metadata": {
        "id": "gcRLTqH8b_08"
      },
      "source": [
        "After manually examining some codes, most of them are districts with missing street numbers or the codes are no longer in use.\n",
        "\n",
        "* There are some geopy maps that could potentionally find the geolocation of a district, unfortunatelly, free-tier maps do not work well with districts or not in use post-codes.\n",
        "\n",
        "* We will encode all the non-found zip_codes with geolocation of GB\n",
        "\n",
        "* Countries other than GB, since they are missing merchantZip, will be encoded by their country Long/Lat"
      ]
    },
    {
      "cell_type": "markdown",
      "metadata": {
        "id": "g5NJrdaWwm9f"
      },
      "source": [
        "###### Account number exploration"
      ]
    },
    {
      "cell_type": "code",
      "metadata": {
        "colab": {
          "base_uri": "https://localhost:8080/"
        },
        "id": "uR-GMAc8wsUk",
        "outputId": "8de4e9a1-aa7f-4c9c-be51-e7dbb5d15d30"
      },
      "source": [
        "# repeated transactions\n",
        "train_data[train_data['target'] == 1]['accountNumber'].value_counts()[:20]"
      ],
      "execution_count": 19,
      "outputs": [
        {
          "output_type": "execute_result",
          "data": {
            "text/plain": [
              "8b9c15ea    97\n",
              "3ec9dda7    59\n",
              "6bab7602    48\n",
              "39219923    45\n",
              "7728d696    41\n",
              "1602df4e    41\n",
              "749acd16    24\n",
              "0646d69d    24\n",
              "bd9f22c1    18\n",
              "50a66385    16\n",
              "ab09dc29    14\n",
              "c8e8e50e    10\n",
              "3c971982    10\n",
              "3e772d6b     9\n",
              "6c8aab9a     9\n",
              "f42ba1f1     8\n",
              "5576aade     7\n",
              "23ce118b     7\n",
              "2607f05b     6\n",
              "f8e83776     6\n",
              "Name: accountNumber, dtype: int64"
            ]
          },
          "metadata": {},
          "execution_count": 19
        }
      ]
    },
    {
      "cell_type": "markdown",
      "metadata": {
        "id": "pR9A0D5xwwaQ"
      },
      "source": [
        "- We can see repeated transactions coming from same accounts, we will explore later in what interval of time fraud transactions happen."
      ]
    },
    {
      "cell_type": "markdown",
      "metadata": {
        "id": "2azgs6w7w2ro"
      },
      "source": [
        "###### Explore PosEntryMode"
      ]
    },
    {
      "cell_type": "code",
      "metadata": {
        "colab": {
          "base_uri": "https://localhost:8080/"
        },
        "id": "-OUoycXswvFm",
        "outputId": "61406ec4-99f7-4fcc-ab0e-1b6f9b0f21e1"
      },
      "source": [
        "train_data['posEntryMode'].value_counts()"
      ],
      "execution_count": 20,
      "outputs": [
        {
          "output_type": "execute_result",
          "data": {
            "text/plain": [
              "5     65262\n",
              "81    33189\n",
              "1      9875\n",
              "90     1047\n",
              "7       569\n",
              "80       91\n",
              "79       31\n",
              "2        13\n",
              "0        10\n",
              "91        3\n",
              "Name: posEntryMode, dtype: int64"
            ]
          },
          "metadata": {},
          "execution_count": 20
        }
      ]
    },
    {
      "cell_type": "code",
      "metadata": {
        "colab": {
          "base_uri": "https://localhost:8080/"
        },
        "id": "vOBdwwC6w7cQ",
        "outputId": "76dcc24d-161d-4550-bd80-c0e47abfaef1"
      },
      "source": [
        "train_data[train_data['target'] == 1]['posEntryMode'].value_counts()"
      ],
      "execution_count": 21,
      "outputs": [
        {
          "output_type": "execute_result",
          "data": {
            "text/plain": [
              "81    618\n",
              "1     188\n",
              "5      17\n",
              "90      9\n",
              "2       2\n",
              "0       2\n",
              "Name: posEntryMode, dtype: int64"
            ]
          },
          "metadata": {},
          "execution_count": 21
        }
      ]
    },
    {
      "cell_type": "markdown",
      "metadata": {
        "id": "cZZBuNInw-_-"
      },
      "source": [
        "Most of the transactions come from POS Entry Circuit Card, and most fraudulent transactions come from POS Entry E-Commerce"
      ]
    },
    {
      "cell_type": "markdown",
      "metadata": {
        "id": "Bi1voo3JxEKd"
      },
      "source": [
        "###### Exploring Time"
      ]
    },
    {
      "cell_type": "markdown",
      "metadata": {
        "id": "FB0uuDRNxImA"
      },
      "source": [
        "Difference in median time between given accounts with fraudulent transactions and non-fraudulent transactions."
      ]
    },
    {
      "cell_type": "code",
      "metadata": {
        "id": "eQBDZaomw-wr"
      },
      "source": [
        "# median time of fraudulent transactions by account number\n",
        "fraud_time_med = []\n",
        "\n",
        "for account in train_data[train_data['target']==1]['accountNumber'].unique().tolist():\n",
        "  acc_time = get_time_difference(train_data, 'accountNumber', account, 'transactionTime', 1)\n",
        "  if len(acc_time) == 0:\n",
        "    fraud_time_med.append(0)\n",
        "  else:\n",
        "    fraud_time_med.append(np.median(acc_time))\n",
        "\n",
        "# median time of non-fraudulent transactions by account number\n",
        "non_fraud_time_med = []\n",
        "\n",
        "for account in train_data[train_data['target'] == 0]['accountNumber'].unique().tolist():\n",
        "  acc_time = get_time_difference(train_data, 'accountNumber', account, 'transactionTime', 0)\n",
        "  if len(acc_time) == 0:\n",
        "    non_fraud_time_med.append(0)\n",
        "  else:\n",
        "    non_fraud_time_med.append(np.median(acc_time))"
      ],
      "execution_count": 22,
      "outputs": []
    },
    {
      "cell_type": "code",
      "metadata": {
        "colab": {
          "base_uri": "https://localhost:8080/"
        },
        "id": "2b00Kfz8xbWw",
        "outputId": "c7159996-2f64-41a3-a41b-c9e432992662"
      },
      "source": [
        "print(f'fraud: {np.median(fraud_time_med)}')\n",
        "print(f'not-fraud: {np.median(non_fraud_time_med)}')"
      ],
      "execution_count": 23,
      "outputs": [
        {
          "output_type": "stream",
          "name": "stdout",
          "text": [
            "fraud: 12.583333333333334\n",
            "not-fraud: 1609.475\n"
          ]
        }
      ]
    },
    {
      "cell_type": "markdown",
      "metadata": {
        "id": "HwZwbEk0xdot"
      },
      "source": [
        "Fraud transactions happen in a shorter span of time then regular ones."
      ]
    },
    {
      "cell_type": "code",
      "metadata": {
        "colab": {
          "base_uri": "https://localhost:8080/",
          "height": 295
        },
        "id": "ks0JLWZdxeE8",
        "outputId": "2ab37f9c-09bd-4ad7-a6dc-b05dafcee7ec"
      },
      "source": [
        "# comparing distribution between fraud and non-fraud transactions within the first hour\n",
        "ax = sns.histplot([i for i in non_fraud_time_med if i != 0 and i < 60], color='green')\n",
        "sns.histplot([i for i in fraud_time_med if i != 0 and i < 60])\n",
        "ax.set(xlabel='Median time in Minutes', ylabel='Count', title='Difference in median time on accounts between transactions')\n",
        "plt.show()"
      ],
      "execution_count": 24,
      "outputs": [
        {
          "output_type": "display_data",
          "data": {
            "image/png": "[encoded data removed]",
            "text/plain": [
              "<Figure size 432x288 with 1 Axes>"
            ]
          },
          "metadata": {
            "needs_background": "light"
          }
        }
      ]
    },
    {
      "cell_type": "markdown",
      "metadata": {
        "id": "QauXJa7pxkwl"
      },
      "source": [
        "From this plot we can see that fraudulent transactions happen consecutively more often in the first 15 minutes than legitimate transactions.\n",
        "\n",
        "A good business decision would be to block the card if more than 4-5 consecutive transactions happen in the first 5-10 minutes, until client can confirm transactions over the app, or via call from customer support agent. For example."
      ]
    },
    {
      "cell_type": "markdown",
      "metadata": {
        "id": "1uS1DM9oxrbr"
      },
      "source": [
        "###### Exploring continues variables"
      ]
    },
    {
      "cell_type": "code",
      "metadata": {
        "colab": {
          "base_uri": "https://localhost:8080/"
        },
        "id": "cEOanf1rxpaS",
        "outputId": "00288023-d977-4ad0-e343-4e1632b4f654"
      },
      "source": [
        "print(f\"fraud median: {train_data[train_data['target'] == 1]['transactionAmount'].median()}\")\n",
        "print(f\"non-fraud median: {train_data[train_data['target'] == 0]['transactionAmount'].median()}\")"
      ],
      "execution_count": 25,
      "outputs": [
        {
          "output_type": "stream",
          "name": "stdout",
          "text": [
            "fraud median: 21.0\n",
            "non-fraud median: 20.32\n"
          ]
        }
      ]
    },
    {
      "cell_type": "code",
      "metadata": {
        "colab": {
          "base_uri": "https://localhost:8080/"
        },
        "id": "9f72i7gRxzff",
        "outputId": "173a35c6-6ba7-4351-ec0f-b5fe7ca30368"
      },
      "source": [
        "print(f\"fraud median: {train_data[train_data['target'] == 1]['availableCash'].median()}\")\n",
        "print(f\"non-fraud median: {train_data[train_data['target'] == 0]['availableCash'].median()}\")"
      ],
      "execution_count": 26,
      "outputs": [
        {
          "output_type": "stream",
          "name": "stdout",
          "text": [
            "fraud median: 4500.0\n",
            "non-fraud median: 7500.0\n"
          ]
        }
      ]
    },
    {
      "cell_type": "markdown",
      "metadata": {
        "id": "UsYase9Ex4Wq"
      },
      "source": [
        "We can spot a difference in available cash amount between fraud and non-fraud transactions. "
      ]
    },
    {
      "cell_type": "markdown",
      "metadata": {
        "id": "6msVHcmVz2CB"
      },
      "source": [
        "# Baseline Model"
      ]
    },
    {
      "cell_type": "code",
      "metadata": {
        "id": "mnQzyjFJz4db"
      },
      "source": [
        "x_train = data[data['transactionTime'] < '2017-12-01'].drop(['reportedTime', 'target', 'eventId'], axis=1).fillna('unknown')\n",
        "y_train = data[data['transactionTime'] < '2017-12-01']['target']\n",
        "\n",
        "x_valid = data[data['transactionTime'] > '2017-12-01'].drop(['reportedTime', 'target', 'eventId'], axis=1).fillna('unknown')\n",
        "y_valid = data[data['transactionTime'] > '2017-12-01']['target']"
      ],
      "execution_count": 27,
      "outputs": []
    },
    {
      "cell_type": "code",
      "metadata": {
        "colab": {
          "base_uri": "https://localhost:8080/"
        },
        "id": "4vQS-dMz3yWb",
        "outputId": "60b837f1-df87-4c49-b018-378cf4bf7f7d"
      },
      "source": [
        "cat_features = ['accountNumber', 'merchantId', 'mcc', 'merchantCountry', 'merchantZip', 'posEntryMode']\n",
        "\n",
        "cbc = CatBoostClassifier(\n",
        "    random_seed=42,\n",
        "    verbose=100,\n",
        ")\n",
        "\n",
        "cbc.fit(x_train, y_train, cat_features = cat_features)  "
      ],
      "execution_count": 28,
      "outputs": [
        {
          "output_type": "stream",
          "name": "stdout",
          "text": [
            "Learning rate set to 0.073912\n",
            "0:\tlearn: 0.5311148\ttotal: 198ms\tremaining: 3m 17s\n",
            "100:\tlearn: 0.0139377\ttotal: 13.6s\tremaining: 2m\n",
            "200:\tlearn: 0.0121962\ttotal: 28.8s\tremaining: 1m 54s\n",
            "300:\tlearn: 0.0112475\ttotal: 43.5s\tremaining: 1m 40s\n",
            "400:\tlearn: 0.0102732\ttotal: 57.5s\tremaining: 1m 25s\n",
            "500:\tlearn: 0.0095809\ttotal: 1m 13s\tremaining: 1m 13s\n",
            "600:\tlearn: 0.0089913\ttotal: 1m 28s\tremaining: 59s\n",
            "700:\tlearn: 0.0083972\ttotal: 1m 45s\tremaining: 44.8s\n",
            "800:\tlearn: 0.0077938\ttotal: 2m\tremaining: 30s\n",
            "900:\tlearn: 0.0072517\ttotal: 2m 16s\tremaining: 15s\n",
            "999:\tlearn: 0.0067386\ttotal: 2m 32s\tremaining: 0us\n"
          ]
        },
        {
          "output_type": "execute_result",
          "data": {
            "text/plain": [
              "<catboost.core.CatBoostClassifier at 0x7fd330cab610>"
            ]
          },
          "metadata": {},
          "execution_count": 28
        }
      ]
    },
    {
      "cell_type": "code",
      "metadata": {
        "colab": {
          "base_uri": "https://localhost:8080/"
        },
        "id": "JguRT9VU6nzI",
        "outputId": "0d4dc985-51a2-4e5f-9567-67a0884c9134"
      },
      "source": [
        "confusion_matrix(y_valid, cbc.predict(x_valid)) # with class_weight=None"
      ],
      "execution_count": 29,
      "outputs": [
        {
          "output_type": "execute_result",
          "data": {
            "text/plain": [
              "array([[17539,    35],\n",
              "       [   82,     1]])"
            ]
          },
          "metadata": {},
          "execution_count": 29
        }
      ]
    },
    {
      "cell_type": "code",
      "metadata": {
        "colab": {
          "base_uri": "https://localhost:8080/"
        },
        "id": "j0joraRMVPv0",
        "outputId": "18e7442a-5b43-4576-a529-43195b0f9b96"
      },
      "source": [
        "y_valid.value_counts()"
      ],
      "execution_count": 30,
      "outputs": [
        {
          "output_type": "execute_result",
          "data": {
            "text/plain": [
              "0.0    17574\n",
              "1.0       83\n",
              "Name: target, dtype: int64"
            ]
          },
          "metadata": {},
          "execution_count": 30
        }
      ]
    },
    {
      "cell_type": "markdown",
      "metadata": {
        "id": "heYu7cRdVUgc"
      },
      "source": [
        "# Feature Engineering"
      ]
    },
    {
      "cell_type": "code",
      "metadata": {
        "id": "8o7Ukx31Vajh"
      },
      "source": [
        "url = \"https://developers.google.com/public-data/docs/canonical/countries_csv\"\n",
        "page = requests.get(url)\n",
        "soup = BeautifulSoup(page.content, \"html.parser\")\n",
        "\n",
        "# encoding location based on zip codes and country\n",
        "df_data = zip_encoder(data, pgeocode, pycountry, soup)\n"
      ],
      "execution_count": 31,
      "outputs": []
    },
    {
      "cell_type": "code",
      "metadata": {
        "id": "nb2B0BtyK9rg"
      },
      "source": [
        "acc_nums = df_data.accountNumber.unique().tolist()"
      ],
      "execution_count": 32,
      "outputs": []
    },
    {
      "cell_type": "code",
      "metadata": {
        "id": "l5OxkxuiLJ4z"
      },
      "source": [
        "temp_df = pd.DataFrame(df_data[['eventId', 'transactionTime']])\n",
        "\n",
        "for acc in acc_nums:\n",
        "  # dataframe should contain 15 columns of time_diff for each acc\n",
        "  acc_df = pd.DataFrame(df_data[df_data['accountNumber'] == acc].sort_values(by='transactionTime'))\n",
        "\n",
        "  for i in range(15):\n",
        "    acc_time_difference = df_data[df_data['accountNumber'] == acc].sort_values(by='transactionTime').set_index('eventId')['transactionTime'].diff(periods=i+1).apply(lambda x: x/np.timedelta64(1, 'm')).fillna(0).astype('int64')\n",
        "    temp_df_2 = pd.DataFrame({\"eventId\": acc_time_difference.index, 'transactionTime': acc_time_difference.values})\n",
        "    acc_df.merge(temp_df_2, how='inner', on=\"eventId\")\n",
        "  # append acc_df to temp_df\n",
        "  temp_df.append(acc_df)"
      ],
      "execution_count": 79,
      "outputs": []
    },
    {
      "cell_type": "code",
      "metadata": {
        "colab": {
          "base_uri": "https://localhost:8080/",
          "height": 419
        },
        "id": "yIyIvHdlkO4Z",
        "outputId": "0c778630-1844-4d41-b7ac-56116a20eb4a"
      },
      "source": [
        "temp_df"
      ],
      "execution_count": 80,
      "outputs": [
        {
          "output_type": "execute_result",
          "data": {
            "text/html": [
              "<div>\n",
              "<style scoped>\n",
              "    .dataframe tbody tr th:only-of-type {\n",
              "        vertical-align: middle;\n",
              "    }\n",
              "\n",
              "    .dataframe tbody tr th {\n",
              "        vertical-align: top;\n",
              "    }\n",
              "\n",
              "    .dataframe thead th {\n",
              "        text-align: right;\n",
              "    }\n",
              "</style>\n",
              "<table border=\"1\" class=\"dataframe\">\n",
              "  <thead>\n",
              "    <tr style=\"text-align: right;\">\n",
              "      <th></th>\n",
              "      <th>eventId</th>\n",
              "      <th>transactionTime</th>\n",
              "    </tr>\n",
              "  </thead>\n",
              "  <tbody>\n",
              "    <tr>\n",
              "      <th>0</th>\n",
              "      <td>18688431A1</td>\n",
              "      <td>2017-01-01 00:00:00+00:00</td>\n",
              "    </tr>\n",
              "    <tr>\n",
              "      <th>1</th>\n",
              "      <td>55451345A1</td>\n",
              "      <td>2017-01-01 10:13:48+00:00</td>\n",
              "    </tr>\n",
              "    <tr>\n",
              "      <th>2</th>\n",
              "      <td>246068A1</td>\n",
              "      <td>2017-01-02 21:06:15+00:00</td>\n",
              "    </tr>\n",
              "    <tr>\n",
              "      <th>3</th>\n",
              "      <td>7301906A1</td>\n",
              "      <td>2017-01-03 15:52:48+00:00</td>\n",
              "    </tr>\n",
              "    <tr>\n",
              "      <th>4</th>\n",
              "      <td>231284A1</td>\n",
              "      <td>2017-01-04 12:47:34+00:00</td>\n",
              "    </tr>\n",
              "    <tr>\n",
              "      <th>...</th>\n",
              "      <td>...</td>\n",
              "      <td>...</td>\n",
              "    </tr>\n",
              "    <tr>\n",
              "      <th>118616</th>\n",
              "      <td>93946923A1</td>\n",
              "      <td>2017-11-28 08:18:26+00:00</td>\n",
              "    </tr>\n",
              "    <tr>\n",
              "      <th>118617</th>\n",
              "      <td>15277454A1</td>\n",
              "      <td>2017-12-09 23:47:53+00:00</td>\n",
              "    </tr>\n",
              "    <tr>\n",
              "      <th>118618</th>\n",
              "      <td>89825209A1</td>\n",
              "      <td>2017-12-24 20:54:34+00:00</td>\n",
              "    </tr>\n",
              "    <tr>\n",
              "      <th>118619</th>\n",
              "      <td>81464676A1</td>\n",
              "      <td>2018-01-14 14:59:29+00:00</td>\n",
              "    </tr>\n",
              "    <tr>\n",
              "      <th>118620</th>\n",
              "      <td>81465876A1</td>\n",
              "      <td>2018-01-17 11:40:13+00:00</td>\n",
              "    </tr>\n",
              "  </tbody>\n",
              "</table>\n",
              "<p>118621 rows × 2 columns</p>\n",
              "</div>"
            ],
            "text/plain": [
              "           eventId           transactionTime\n",
              "0       18688431A1 2017-01-01 00:00:00+00:00\n",
              "1       55451345A1 2017-01-01 10:13:48+00:00\n",
              "2         246068A1 2017-01-02 21:06:15+00:00\n",
              "3        7301906A1 2017-01-03 15:52:48+00:00\n",
              "4         231284A1 2017-01-04 12:47:34+00:00\n",
              "...            ...                       ...\n",
              "118616  93946923A1 2017-11-28 08:18:26+00:00\n",
              "118617  15277454A1 2017-12-09 23:47:53+00:00\n",
              "118618  89825209A1 2017-12-24 20:54:34+00:00\n",
              "118619  81464676A1 2018-01-14 14:59:29+00:00\n",
              "118620  81465876A1 2018-01-17 11:40:13+00:00\n",
              "\n",
              "[118621 rows x 2 columns]"
            ]
          },
          "metadata": {},
          "execution_count": 80
        }
      ]
    },
    {
      "cell_type": "code",
      "metadata": {
        "id": "VgupltqDBl0D"
      },
      "source": [
        "temp_df = pd.DataFrame()\n",
        "\n",
        "# time difference between previous transaction\n",
        "acc_df = df_data[df_data['accountNumber'] == '446aa601'].sort_values(by='transactionTime').set_index('eventId')['transactionTime'].diff(periods=1).apply(lambda x: x/np.timedelta64(1, 'm')).fillna(0).astype('int64')\n",
        "acc_df_2 = df_data[df_data['accountNumber'] == '446aa601'].sort_values(by='transactionTime').set_index('eventId')['transactionTime'].diff(periods=2).apply(lambda x: x/np.timedelta64(1, 'm')).fillna(0).astype('int64')\n",
        "\n",
        "df_1 = pd.DataFrame({\"eventId\": acc_df.index, \"transactionTime_1\": acc_df.values})\n",
        "df_2 = pd.DataFrame({\"eventId\": acc_df_2.index, \"transactionTime_1\": acc_df_2.values})\n",
        "\n",
        "combined = pd.merge(df_1, df_2, how=\"inner\", on=\"eventId\")\n",
        "temp_df = temp_df.append(combined)"
      ],
      "execution_count": 93,
      "outputs": []
    },
    {
      "cell_type": "code",
      "metadata": {
        "colab": {
          "base_uri": "https://localhost:8080/",
          "height": 419
        },
        "id": "eNPjOmxjWyLZ",
        "outputId": "e92691c9-3de4-464c-e6ba-a8e0319bc8a0"
      },
      "source": [
        "pd.DataFrame(df_data[df_data['accountNumber'] == '446aa601'].sort_values(by='transactionTime')[['eventId','transactionTime']])"
      ],
      "execution_count": 85,
      "outputs": [
        {
          "output_type": "execute_result",
          "data": {
            "text/html": [
              "<div>\n",
              "<style scoped>\n",
              "    .dataframe tbody tr th:only-of-type {\n",
              "        vertical-align: middle;\n",
              "    }\n",
              "\n",
              "    .dataframe tbody tr th {\n",
              "        vertical-align: top;\n",
              "    }\n",
              "\n",
              "    .dataframe thead th {\n",
              "        text-align: right;\n",
              "    }\n",
              "</style>\n",
              "<table border=\"1\" class=\"dataframe\">\n",
              "  <thead>\n",
              "    <tr style=\"text-align: right;\">\n",
              "      <th></th>\n",
              "      <th>eventId</th>\n",
              "      <th>transactionTime</th>\n",
              "    </tr>\n",
              "  </thead>\n",
              "  <tbody>\n",
              "    <tr>\n",
              "      <th>33171</th>\n",
              "      <td>245540A1</td>\n",
              "      <td>2017-01-02 13:02:46+00:00</td>\n",
              "    </tr>\n",
              "    <tr>\n",
              "      <th>2</th>\n",
              "      <td>246068A1</td>\n",
              "      <td>2017-01-02 21:06:15+00:00</td>\n",
              "    </tr>\n",
              "    <tr>\n",
              "      <th>47019</th>\n",
              "      <td>241748A1</td>\n",
              "      <td>2017-01-03 12:01:59+00:00</td>\n",
              "    </tr>\n",
              "    <tr>\n",
              "      <th>47018</th>\n",
              "      <td>228788A1</td>\n",
              "      <td>2017-01-03 12:36:17+00:00</td>\n",
              "    </tr>\n",
              "    <tr>\n",
              "      <th>4</th>\n",
              "      <td>231284A1</td>\n",
              "      <td>2017-01-04 12:47:34+00:00</td>\n",
              "    </tr>\n",
              "    <tr>\n",
              "      <th>...</th>\n",
              "      <td>...</td>\n",
              "      <td>...</td>\n",
              "    </tr>\n",
              "    <tr>\n",
              "      <th>66218</th>\n",
              "      <td>246500A1</td>\n",
              "      <td>2018-01-26 23:56:14+00:00</td>\n",
              "    </tr>\n",
              "    <tr>\n",
              "      <th>66217</th>\n",
              "      <td>244772A1</td>\n",
              "      <td>2018-01-27 00:16:13+00:00</td>\n",
              "    </tr>\n",
              "    <tr>\n",
              "      <th>66219</th>\n",
              "      <td>232964A1</td>\n",
              "      <td>2018-01-28 16:43:40+00:00</td>\n",
              "    </tr>\n",
              "    <tr>\n",
              "      <th>94157</th>\n",
              "      <td>246980A1</td>\n",
              "      <td>2018-01-28 21:21:50+00:00</td>\n",
              "    </tr>\n",
              "    <tr>\n",
              "      <th>47166</th>\n",
              "      <td>239012A1</td>\n",
              "      <td>2018-01-29 14:20:55+00:00</td>\n",
              "    </tr>\n",
              "  </tbody>\n",
              "</table>\n",
              "<p>383 rows × 2 columns</p>\n",
              "</div>"
            ],
            "text/plain": [
              "        eventId           transactionTime\n",
              "33171  245540A1 2017-01-02 13:02:46+00:00\n",
              "2      246068A1 2017-01-02 21:06:15+00:00\n",
              "47019  241748A1 2017-01-03 12:01:59+00:00\n",
              "47018  228788A1 2017-01-03 12:36:17+00:00\n",
              "4      231284A1 2017-01-04 12:47:34+00:00\n",
              "...         ...                       ...\n",
              "66218  246500A1 2018-01-26 23:56:14+00:00\n",
              "66217  244772A1 2018-01-27 00:16:13+00:00\n",
              "66219  232964A1 2018-01-28 16:43:40+00:00\n",
              "94157  246980A1 2018-01-28 21:21:50+00:00\n",
              "47166  239012A1 2018-01-29 14:20:55+00:00\n",
              "\n",
              "[383 rows x 2 columns]"
            ]
          },
          "metadata": {},
          "execution_count": 85
        }
      ]
    },
    {
      "cell_type": "code",
      "metadata": {
        "id": "SSZlblnJGgls",
        "colab": {
          "base_uri": "https://localhost:8080/"
        },
        "outputId": "a421e7e0-109f-4b41-ec19-9e6f52797a71"
      },
      "source": [
        "# time difference between 2 previous transaction\n",
        "df_data[df_data['accountNumber'] == '446aa601'].sort_values(by='transactionTime')['transactionTime'].diff(periods=2).apply(lambda x: x/np.timedelta64(1, 'm')).fillna(0).astype('int64')"
      ],
      "execution_count": 82,
      "outputs": [
        {
          "output_type": "execute_result",
          "data": {
            "text/plain": [
              "33171       0\n",
              "2           0\n",
              "47019    1379\n",
              "47018     930\n",
              "4        1485\n",
              "         ... \n",
              "66218    4520\n",
              "66217    1541\n",
              "66219    2447\n",
              "94157    2705\n",
              "47166    1297\n",
              "Name: transactionTime, Length: 383, dtype: int64"
            ]
          },
          "metadata": {},
          "execution_count": 82
        }
      ]
    },
    {
      "cell_type": "code",
      "metadata": {
        "id": "jrgMtYcjIRnM",
        "colab": {
          "base_uri": "https://localhost:8080/"
        },
        "outputId": "63c867ef-a0d8-48fc-db28-12c63f064ed5"
      },
      "source": [
        "# time difference between 3 previous transaction\n",
        "df_data[df_data['accountNumber'] == '446aa601'].sort_values(by='transactionTime')['transactionTime'].diff(periods=3).apply(lambda x: x/np.timedelta64(1, 'm')).fillna(0).astype('int64')"
      ],
      "execution_count": 36,
      "outputs": [
        {
          "output_type": "execute_result",
          "data": {
            "text/plain": [
              "33171       0\n",
              "2           0\n",
              "47019       0\n",
              "47018    1413\n",
              "4        2381\n",
              "         ... \n",
              "66218    4675\n",
              "66217    4540\n",
              "66219    3968\n",
              "94157    2725\n",
              "47166    3724\n",
              "Name: transactionTime, Length: 383, dtype: int64"
            ]
          },
          "metadata": {},
          "execution_count": 36
        }
      ]
    },
    {
      "cell_type": "code",
      "metadata": {
        "id": "mwn0xhCcIVds",
        "colab": {
          "base_uri": "https://localhost:8080/"
        },
        "outputId": "c1f3c141-375d-4ed1-bf1e-36beb9a0fcb2"
      },
      "source": [
        "# time difference between 4 previous transaction\n",
        "df_data[df_data['accountNumber'] == '446aa601'].sort_values(by='transactionTime')['transactionTime'].diff(periods=4).apply(lambda x: x/np.timedelta64(1, 'm')).fillna(0).astype('int64')"
      ],
      "execution_count": 37,
      "outputs": [
        {
          "output_type": "execute_result",
          "data": {
            "text/plain": [
              "33171       0\n",
              "2           0\n",
              "47019       0\n",
              "47018       0\n",
              "4        2864\n",
              "         ... \n",
              "66218    6493\n",
              "66217    4695\n",
              "66219    6968\n",
              "94157    4247\n",
              "47166    3744\n",
              "Name: transactionTime, Length: 383, dtype: int64"
            ]
          },
          "metadata": {},
          "execution_count": 37
        }
      ]
    },
    {
      "cell_type": "code",
      "metadata": {
        "id": "1HqHxTKbIZSW",
        "colab": {
          "base_uri": "https://localhost:8080/"
        },
        "outputId": "b19acf34-fabc-4d53-c397-bf395663396f"
      },
      "source": [
        "# time difference between 5 previous transaction\n",
        "df_data[df_data['accountNumber'] == '446aa601'].sort_values(by='transactionTime')['transactionTime'].diff(periods=5).apply(lambda x: x/np.timedelta64(1, 'm')).fillna(0).astype('int64')"
      ],
      "execution_count": 38,
      "outputs": [
        {
          "output_type": "execute_result",
          "data": {
            "text/plain": [
              "33171       0\n",
              "2           0\n",
              "47019       0\n",
              "47018       0\n",
              "4           0\n",
              "         ... \n",
              "66218    6800\n",
              "66217    6513\n",
              "66219    7122\n",
              "94157    7246\n",
              "47166    5266\n",
              "Name: transactionTime, Length: 383, dtype: int64"
            ]
          },
          "metadata": {},
          "execution_count": 38
        }
      ]
    },
    {
      "cell_type": "code",
      "metadata": {
        "id": "uBM3BP76IbBB",
        "colab": {
          "base_uri": "https://localhost:8080/"
        },
        "outputId": "98cae718-c351-4962-a7fd-ba6abe4eba55"
      },
      "source": [
        "# time difference between 6 previous transaction\n",
        "df_data[df_data['accountNumber'] == '446aa601'].sort_values(by='transactionTime')['transactionTime'].diff(periods=6).apply(lambda x: x/np.timedelta64(1, 'm')).fillna(0).astype('int64')"
      ],
      "execution_count": 39,
      "outputs": [
        {
          "output_type": "execute_result",
          "data": {
            "text/plain": [
              "33171       0\n",
              "2           0\n",
              "47019       0\n",
              "47018       0\n",
              "4           0\n",
              "         ... \n",
              "66218    8877\n",
              "66217    6820\n",
              "66219    8940\n",
              "94157    7400\n",
              "47166    8265\n",
              "Name: transactionTime, Length: 383, dtype: int64"
            ]
          },
          "metadata": {},
          "execution_count": 39
        }
      ]
    },
    {
      "cell_type": "code",
      "metadata": {
        "id": "o3Kqrm7KIeLo",
        "colab": {
          "base_uri": "https://localhost:8080/"
        },
        "outputId": "e4dded3e-7970-41a7-ed5d-a25fce2c8b0d"
      },
      "source": [
        "# time difference between 7 previous transaction\n",
        "df_data[df_data['accountNumber'] == '446aa601'].sort_values(by='transactionTime')['transactionTime'].diff(periods=7).apply(lambda x: x/np.timedelta64(1, 'm')).fillna(0).astype('int64')"
      ],
      "execution_count": 40,
      "outputs": [
        {
          "output_type": "execute_result",
          "data": {
            "text/plain": [
              "33171       0\n",
              "2           0\n",
              "47019       0\n",
              "47018       0\n",
              "4           0\n",
              "         ... \n",
              "66218    8958\n",
              "66217    8897\n",
              "66219    9247\n",
              "94157    9218\n",
              "47166    8419\n",
              "Name: transactionTime, Length: 383, dtype: int64"
            ]
          },
          "metadata": {},
          "execution_count": 40
        }
      ]
    },
    {
      "cell_type": "code",
      "metadata": {
        "id": "RpNTUKmwIhc8",
        "colab": {
          "base_uri": "https://localhost:8080/"
        },
        "outputId": "95baa524-4925-4505-bd91-fcfb19fe6310"
      },
      "source": [
        "# time difference between 8 previous transaction\n",
        "df_data[df_data['accountNumber'] == '446aa601'].sort_values(by='transactionTime')['transactionTime'].diff(periods=8).apply(lambda x: x/np.timedelta64(1, 'm')).fillna(0).astype('int64')"
      ],
      "execution_count": 41,
      "outputs": [
        {
          "output_type": "execute_result",
          "data": {
            "text/plain": [
              "33171        0\n",
              "2            0\n",
              "47019        0\n",
              "47018        0\n",
              "4            0\n",
              "         ...  \n",
              "66218     9849\n",
              "66217     8978\n",
              "66219    11325\n",
              "94157     9525\n",
              "47166    10237\n",
              "Name: transactionTime, Length: 383, dtype: int64"
            ]
          },
          "metadata": {},
          "execution_count": 41
        }
      ]
    },
    {
      "cell_type": "code",
      "metadata": {
        "id": "u52vGCtOIkSJ",
        "colab": {
          "base_uri": "https://localhost:8080/"
        },
        "outputId": "8b81b06d-40e4-43a1-edc8-66bd17c4c322"
      },
      "source": [
        "# time difference between 9 previous transaction\n",
        "df_data[df_data['accountNumber'] == '446aa601'].sort_values(by='transactionTime')['transactionTime'].diff(periods=9).apply(lambda x: x/np.timedelta64(1, 'm')).fillna(0).astype('int64')"
      ],
      "execution_count": 42,
      "outputs": [
        {
          "output_type": "execute_result",
          "data": {
            "text/plain": [
              "33171        0\n",
              "2            0\n",
              "47019        0\n",
              "47018        0\n",
              "4            0\n",
              "         ...  \n",
              "66218    10686\n",
              "66217     9869\n",
              "66219    11405\n",
              "94157    11603\n",
              "47166    10544\n",
              "Name: transactionTime, Length: 383, dtype: int64"
            ]
          },
          "metadata": {},
          "execution_count": 42
        }
      ]
    },
    {
      "cell_type": "code",
      "metadata": {
        "id": "iW8P5Y0bInaw",
        "colab": {
          "base_uri": "https://localhost:8080/"
        },
        "outputId": "afe1ed6e-116f-463e-c23c-563d90008e39"
      },
      "source": [
        "# time difference between 10 previous transaction\n",
        "df_data[df_data['accountNumber'] == '446aa601'].sort_values(by='transactionTime')['transactionTime'].diff(periods=10).apply(lambda x: x/np.timedelta64(1, 'm')).fillna(0).astype('int64')"
      ],
      "execution_count": 43,
      "outputs": [
        {
          "output_type": "execute_result",
          "data": {
            "text/plain": [
              "33171        0\n",
              "2            0\n",
              "47019        0\n",
              "47018        0\n",
              "4            0\n",
              "         ...  \n",
              "66218    11189\n",
              "66217    10706\n",
              "66219    12296\n",
              "94157    11684\n",
              "47166    12622\n",
              "Name: transactionTime, Length: 383, dtype: int64"
            ]
          },
          "metadata": {},
          "execution_count": 43
        }
      ]
    },
    {
      "cell_type": "code",
      "metadata": {
        "colab": {
          "base_uri": "https://localhost:8080/",
          "height": 609
        },
        "id": "DZ6HUxxIZ-2G",
        "outputId": "04cc71fd-b2bd-40f2-97b3-484d7dafdcc0"
      },
      "source": [
        "df_data[df_data['accountNumber'] == '446aa601'].sort_values(by='transactionTime')"
      ],
      "execution_count": 44,
      "outputs": [
        {
          "output_type": "execute_result",
          "data": {
            "text/html": [
              "<div>\n",
              "<style scoped>\n",
              "    .dataframe tbody tr th:only-of-type {\n",
              "        vertical-align: middle;\n",
              "    }\n",
              "\n",
              "    .dataframe tbody tr th {\n",
              "        vertical-align: top;\n",
              "    }\n",
              "\n",
              "    .dataframe thead th {\n",
              "        text-align: right;\n",
              "    }\n",
              "</style>\n",
              "<table border=\"1\" class=\"dataframe\">\n",
              "  <thead>\n",
              "    <tr style=\"text-align: right;\">\n",
              "      <th></th>\n",
              "      <th>transactionTime</th>\n",
              "      <th>eventId</th>\n",
              "      <th>accountNumber</th>\n",
              "      <th>merchantId</th>\n",
              "      <th>mcc</th>\n",
              "      <th>merchantCountry</th>\n",
              "      <th>merchantZip</th>\n",
              "      <th>posEntryMode</th>\n",
              "      <th>transactionAmount</th>\n",
              "      <th>availableCash</th>\n",
              "      <th>reportedTime</th>\n",
              "      <th>target</th>\n",
              "      <th>state_name</th>\n",
              "      <th>Latitude</th>\n",
              "      <th>Longitude</th>\n",
              "    </tr>\n",
              "  </thead>\n",
              "  <tbody>\n",
              "    <tr>\n",
              "      <th>33171</th>\n",
              "      <td>2017-01-02 13:02:46+00:00</td>\n",
              "      <td>245540A1</td>\n",
              "      <td>446aa601</td>\n",
              "      <td>7c3a49</td>\n",
              "      <td>5912</td>\n",
              "      <td>826</td>\n",
              "      <td>E12</td>\n",
              "      <td>5</td>\n",
              "      <td>12.60</td>\n",
              "      <td>7500</td>\n",
              "      <td>NaN</td>\n",
              "      <td>0.0</td>\n",
              "      <td>England</td>\n",
              "      <td>51.5508</td>\n",
              "      <td>0.052800</td>\n",
              "    </tr>\n",
              "    <tr>\n",
              "      <th>2</th>\n",
              "      <td>2017-01-02 21:06:15+00:00</td>\n",
              "      <td>246068A1</td>\n",
              "      <td>446aa601</td>\n",
              "      <td>efe82d</td>\n",
              "      <td>7523</td>\n",
              "      <td>826</td>\n",
              "      <td>CR0</td>\n",
              "      <td>90</td>\n",
              "      <td>4.08</td>\n",
              "      <td>7500</td>\n",
              "      <td>NaN</td>\n",
              "      <td>0.0</td>\n",
              "      <td>England</td>\n",
              "      <td>51.3500</td>\n",
              "      <td>-0.060975</td>\n",
              "    </tr>\n",
              "    <tr>\n",
              "      <th>47019</th>\n",
              "      <td>2017-01-03 12:01:59+00:00</td>\n",
              "      <td>241748A1</td>\n",
              "      <td>446aa601</td>\n",
              "      <td>1bad26</td>\n",
              "      <td>5411</td>\n",
              "      <td>826</td>\n",
              "      <td>CT1</td>\n",
              "      <td>5</td>\n",
              "      <td>32.23</td>\n",
              "      <td>8500</td>\n",
              "      <td>NaN</td>\n",
              "      <td>0.0</td>\n",
              "      <td>England</td>\n",
              "      <td>51.2790</td>\n",
              "      <td>1.068350</td>\n",
              "    </tr>\n",
              "    <tr>\n",
              "      <th>47018</th>\n",
              "      <td>2017-01-03 12:36:17+00:00</td>\n",
              "      <td>228788A1</td>\n",
              "      <td>446aa601</td>\n",
              "      <td>10cad1</td>\n",
              "      <td>5732</td>\n",
              "      <td>826</td>\n",
              "      <td>CT1</td>\n",
              "      <td>5</td>\n",
              "      <td>200.03</td>\n",
              "      <td>7500</td>\n",
              "      <td>NaN</td>\n",
              "      <td>0.0</td>\n",
              "      <td>England</td>\n",
              "      <td>51.2790</td>\n",
              "      <td>1.068350</td>\n",
              "    </tr>\n",
              "    <tr>\n",
              "      <th>4</th>\n",
              "      <td>2017-01-04 12:47:34+00:00</td>\n",
              "      <td>231284A1</td>\n",
              "      <td>446aa601</td>\n",
              "      <td>efe82d</td>\n",
              "      <td>7523</td>\n",
              "      <td>826</td>\n",
              "      <td>CR0</td>\n",
              "      <td>90</td>\n",
              "      <td>4.15</td>\n",
              "      <td>8500</td>\n",
              "      <td>NaN</td>\n",
              "      <td>0.0</td>\n",
              "      <td>England</td>\n",
              "      <td>51.3500</td>\n",
              "      <td>-0.060975</td>\n",
              "    </tr>\n",
              "    <tr>\n",
              "      <th>...</th>\n",
              "      <td>...</td>\n",
              "      <td>...</td>\n",
              "      <td>...</td>\n",
              "      <td>...</td>\n",
              "      <td>...</td>\n",
              "      <td>...</td>\n",
              "      <td>...</td>\n",
              "      <td>...</td>\n",
              "      <td>...</td>\n",
              "      <td>...</td>\n",
              "      <td>...</td>\n",
              "      <td>...</td>\n",
              "      <td>...</td>\n",
              "      <td>...</td>\n",
              "      <td>...</td>\n",
              "    </tr>\n",
              "    <tr>\n",
              "      <th>66218</th>\n",
              "      <td>2018-01-26 23:56:14+00:00</td>\n",
              "      <td>246500A1</td>\n",
              "      <td>446aa601</td>\n",
              "      <td>12e993</td>\n",
              "      <td>5411</td>\n",
              "      <td>826</td>\n",
              "      <td>CT5</td>\n",
              "      <td>5</td>\n",
              "      <td>34.70</td>\n",
              "      <td>8500</td>\n",
              "      <td>NaN</td>\n",
              "      <td>0.0</td>\n",
              "      <td>England</td>\n",
              "      <td>51.3612</td>\n",
              "      <td>1.040014</td>\n",
              "    </tr>\n",
              "    <tr>\n",
              "      <th>66217</th>\n",
              "      <td>2018-01-27 00:16:13+00:00</td>\n",
              "      <td>244772A1</td>\n",
              "      <td>446aa601</td>\n",
              "      <td>12e993</td>\n",
              "      <td>5411</td>\n",
              "      <td>826</td>\n",
              "      <td>CT5</td>\n",
              "      <td>5</td>\n",
              "      <td>11.69</td>\n",
              "      <td>8500</td>\n",
              "      <td>NaN</td>\n",
              "      <td>0.0</td>\n",
              "      <td>England</td>\n",
              "      <td>51.3612</td>\n",
              "      <td>1.040014</td>\n",
              "    </tr>\n",
              "    <tr>\n",
              "      <th>66219</th>\n",
              "      <td>2018-01-28 16:43:40+00:00</td>\n",
              "      <td>232964A1</td>\n",
              "      <td>446aa601</td>\n",
              "      <td>bc4a14</td>\n",
              "      <td>5631</td>\n",
              "      <td>826</td>\n",
              "      <td>CT5</td>\n",
              "      <td>5</td>\n",
              "      <td>56.00</td>\n",
              "      <td>8500</td>\n",
              "      <td>NaN</td>\n",
              "      <td>0.0</td>\n",
              "      <td>England</td>\n",
              "      <td>51.3612</td>\n",
              "      <td>1.040014</td>\n",
              "    </tr>\n",
              "    <tr>\n",
              "      <th>94157</th>\n",
              "      <td>2018-01-28 21:21:50+00:00</td>\n",
              "      <td>246980A1</td>\n",
              "      <td>446aa601</td>\n",
              "      <td>35ada2</td>\n",
              "      <td>7523</td>\n",
              "      <td>826</td>\n",
              "      <td>DA10</td>\n",
              "      <td>5</td>\n",
              "      <td>6.00</td>\n",
              "      <td>8500</td>\n",
              "      <td>NaN</td>\n",
              "      <td>0.0</td>\n",
              "      <td>England</td>\n",
              "      <td>51.4463</td>\n",
              "      <td>0.325500</td>\n",
              "    </tr>\n",
              "    <tr>\n",
              "      <th>47166</th>\n",
              "      <td>2018-01-29 14:20:55+00:00</td>\n",
              "      <td>239012A1</td>\n",
              "      <td>446aa601</td>\n",
              "      <td>ea91a2</td>\n",
              "      <td>5311</td>\n",
              "      <td>826</td>\n",
              "      <td>CT1</td>\n",
              "      <td>5</td>\n",
              "      <td>196.00</td>\n",
              "      <td>8500</td>\n",
              "      <td>NaN</td>\n",
              "      <td>0.0</td>\n",
              "      <td>England</td>\n",
              "      <td>51.2790</td>\n",
              "      <td>1.068350</td>\n",
              "    </tr>\n",
              "  </tbody>\n",
              "</table>\n",
              "<p>383 rows × 15 columns</p>\n",
              "</div>"
            ],
            "text/plain": [
              "                transactionTime   eventId  ... Latitude Longitude\n",
              "33171 2017-01-02 13:02:46+00:00  245540A1  ...  51.5508  0.052800\n",
              "2     2017-01-02 21:06:15+00:00  246068A1  ...  51.3500 -0.060975\n",
              "47019 2017-01-03 12:01:59+00:00  241748A1  ...  51.2790  1.068350\n",
              "47018 2017-01-03 12:36:17+00:00  228788A1  ...  51.2790  1.068350\n",
              "4     2017-01-04 12:47:34+00:00  231284A1  ...  51.3500 -0.060975\n",
              "...                         ...       ...  ...      ...       ...\n",
              "66218 2018-01-26 23:56:14+00:00  246500A1  ...  51.3612  1.040014\n",
              "66217 2018-01-27 00:16:13+00:00  244772A1  ...  51.3612  1.040014\n",
              "66219 2018-01-28 16:43:40+00:00  232964A1  ...  51.3612  1.040014\n",
              "94157 2018-01-28 21:21:50+00:00  246980A1  ...  51.4463  0.325500\n",
              "47166 2018-01-29 14:20:55+00:00  239012A1  ...  51.2790  1.068350\n",
              "\n",
              "[383 rows x 15 columns]"
            ]
          },
          "metadata": {},
          "execution_count": 44
        }
      ]
    }
  ]
}