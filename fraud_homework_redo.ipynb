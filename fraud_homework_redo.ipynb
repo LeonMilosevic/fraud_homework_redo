{
  "nbformat": 4,
  "nbformat_minor": 0,
  "metadata": {
    "colab": {
      "name": "fraud_homework_redo",
      "provenance": [],
      "authorship_tag": "ABX9TyOp/NZNvaaLsym/mpg3gdvN",
      "include_colab_link": true
    },
    "kernelspec": {
      "name": "python3",
      "display_name": "Python 3"
    },
    "language_info": {
      "name": "python"
    }
  },
  "cells": [
    {
      "cell_type": "markdown",
      "metadata": {
        "id": "view-in-github",
        "colab_type": "text"
      },
      "source": [
        "<a href=\"https://colab.research.google.com/github/LeonMilosevic/fraud_homework_redo/blob/main/fraud_homework_redo.ipynb\" target=\"_parent\"><img src=\"https://colab.research.google.com/assets/colab-badge.svg\" alt=\"Open In Colab\"/></a>"
      ]
    },
    {
      "cell_type": "markdown",
      "metadata": {
        "id": "53lv5OwEYQv2"
      },
      "source": [
        "# Concept of the Notebook"
      ]
    },
    {
      "cell_type": "markdown",
      "metadata": {
        "id": "nvLGjsjsYUhp"
      },
      "source": [
        "Notebook will consists out of 5 parts.\n",
        "\n",
        "1. Analysis\n",
        "  - Explore the dataset\n",
        "  - Find insights\n",
        "  - Draw conclusions\n",
        "  - Get ideas for feature engineering\n",
        "\n",
        "2. Base model\n",
        "  - We will create a base model and have a benchmark for the performence.\n",
        "\n",
        "3. Feature Engineering\n",
        "  - Improve the results and build upon discoveries from Analysis part.\n",
        "\n",
        "4. Modeling\n",
        "  - Model optimization, and performence tuning.\n",
        "  - Draw business conclusions\n",
        "\n",
        "5. Business presentation and final conclusions.\n",
        "  - We will make a conclusion, sum up all previous chapters, present our solution and advice on how to improve the business model of detecting fraudulent transactions."
      ]
    },
    {
      "cell_type": "markdown",
      "metadata": {
        "id": "25orqDOxaAwK"
      },
      "source": [
        "# Imports and libraries "
      ]
    },
    {
      "cell_type": "code",
      "metadata": {
        "id": "lEOf0P6DaMCJ"
      },
      "source": [
        "!pip install pgeocode\n",
        "!pip install folium\n",
        "!pip install pycountry\n",
        "!pip install beautifulsoup4"
      ],
      "execution_count": null,
      "outputs": []
    },
    {
      "cell_type": "code",
      "metadata": {
        "id": "ZZWZ4UU3aDpA"
      },
      "source": [
        "import pandas as pd\n",
        "import numpy as np\n",
        "import seaborn as sns\n",
        "import matplotlib.pyplot as plt\n",
        "import re\n",
        "from statistics import mean\n",
        "\n",
        "import pycountry\n",
        "import pgeocode\n",
        "import folium\n",
        "from folium import Marker\n",
        "\n",
        "from scipy import stats\n",
        "\n",
        "from bs4 import BeautifulSoup\n",
        "import requests\n",
        "\n",
        "from helper_functions import get_postal_code, get_time_difference, check_missing_values\n",
        "\n",
        "import warnings\n",
        "warnings.filterwarnings('ignore')"
      ],
      "execution_count": 4,
      "outputs": []
    },
    {
      "cell_type": "markdown",
      "metadata": {
        "id": "CkpAoA_aYIDM"
      },
      "source": [
        "# Analysis"
      ]
    },
    {
      "cell_type": "code",
      "metadata": {
        "colab": {
          "base_uri": "https://localhost:8080/"
        },
        "id": "W1OePA2rX4rG",
        "outputId": "0946ddd0-0d1a-41e2-b52e-a3a9e1b22965"
      },
      "source": [
        "transaction_data = pd.read_csv('transactions_obf.csv')\n",
        "labels_data = pd.read_csv('labels_obf.csv')\n",
        "\n",
        "# adding target value to labels_data and merging the dataframes\n",
        "labels_data['target'] = 1\n",
        "data = pd.merge(transaction_data, labels_data, how=\"left\", on=\"eventId\")\n",
        "\n",
        "data[['target']] = data[['target']].fillna(value=0)\n",
        "\n",
        "# converting time column and setting time as index\n",
        "data['transactionTime'] = pd.to_datetime(data['transactionTime'])\n",
        "\n",
        "data.shape"
      ],
      "execution_count": 5,
      "outputs": [
        {
          "output_type": "execute_result",
          "data": {
            "text/plain": [
              "(118621, 12)"
            ]
          },
          "metadata": {
            "tags": []
          },
          "execution_count": 5
        }
      ]
    },
    {
      "cell_type": "markdown",
      "metadata": {
        "id": "Fl74yTEGd021"
      },
      "source": [
        "###### Split into train/test data based on time"
      ]
    },
    {
      "cell_type": "code",
      "metadata": {
        "colab": {
          "base_uri": "https://localhost:8080/"
        },
        "id": "yL96ZPQrd5QG",
        "outputId": "6f20195f-879e-43db-b173-95f8bda89428"
      },
      "source": [
        "train_data = data[data['transactionTime'] < \"2018-01-01\"]\n",
        "test_data = data[data['transactionTime'] > \"2018-01-01\"]\n",
        "\n",
        "print(train_data.shape)\n",
        "print(test_data.shape)"
      ],
      "execution_count": 6,
      "outputs": [
        {
          "output_type": "stream",
          "text": [
            "(110090, 12)\n",
            "(8531, 12)\n"
          ],
          "name": "stdout"
        }
      ]
    },
    {
      "cell_type": "markdown",
      "metadata": {
        "id": "UIgNHIded_WR"
      },
      "source": [
        "###### Missing Values, maybe remove?"
      ]
    },
    {
      "cell_type": "code",
      "metadata": {
        "colab": {
          "base_uri": "https://localhost:8080/",
          "height": 390
        },
        "id": "HmaPmWNSeEKf",
        "outputId": "22c63ec4-dd70-4d3c-fb5c-380f64e62a8e"
      },
      "source": [
        "check_missing_values(train_data)[1:]"
      ],
      "execution_count": 9,
      "outputs": [
        {
          "output_type": "execute_result",
          "data": {
            "text/html": [
              "<div>\n",
              "<style scoped>\n",
              "    .dataframe tbody tr th:only-of-type {\n",
              "        vertical-align: middle;\n",
              "    }\n",
              "\n",
              "    .dataframe tbody tr th {\n",
              "        vertical-align: top;\n",
              "    }\n",
              "\n",
              "    .dataframe thead th {\n",
              "        text-align: right;\n",
              "    }\n",
              "</style>\n",
              "<table border=\"1\" class=\"dataframe\">\n",
              "  <thead>\n",
              "    <tr style=\"text-align: right;\">\n",
              "      <th></th>\n",
              "      <th>total</th>\n",
              "      <th>percent</th>\n",
              "    </tr>\n",
              "  </thead>\n",
              "  <tbody>\n",
              "    <tr>\n",
              "      <th>merchantZip</th>\n",
              "      <td>21182</td>\n",
              "      <td>0.192406</td>\n",
              "    </tr>\n",
              "    <tr>\n",
              "      <th>target</th>\n",
              "      <td>0</td>\n",
              "      <td>0.000000</td>\n",
              "    </tr>\n",
              "    <tr>\n",
              "      <th>availableCash</th>\n",
              "      <td>0</td>\n",
              "      <td>0.000000</td>\n",
              "    </tr>\n",
              "    <tr>\n",
              "      <th>transactionAmount</th>\n",
              "      <td>0</td>\n",
              "      <td>0.000000</td>\n",
              "    </tr>\n",
              "    <tr>\n",
              "      <th>posEntryMode</th>\n",
              "      <td>0</td>\n",
              "      <td>0.000000</td>\n",
              "    </tr>\n",
              "    <tr>\n",
              "      <th>merchantCountry</th>\n",
              "      <td>0</td>\n",
              "      <td>0.000000</td>\n",
              "    </tr>\n",
              "    <tr>\n",
              "      <th>mcc</th>\n",
              "      <td>0</td>\n",
              "      <td>0.000000</td>\n",
              "    </tr>\n",
              "    <tr>\n",
              "      <th>merchantId</th>\n",
              "      <td>0</td>\n",
              "      <td>0.000000</td>\n",
              "    </tr>\n",
              "    <tr>\n",
              "      <th>accountNumber</th>\n",
              "      <td>0</td>\n",
              "      <td>0.000000</td>\n",
              "    </tr>\n",
              "    <tr>\n",
              "      <th>eventId</th>\n",
              "      <td>0</td>\n",
              "      <td>0.000000</td>\n",
              "    </tr>\n",
              "    <tr>\n",
              "      <th>transactionTime</th>\n",
              "      <td>0</td>\n",
              "      <td>0.000000</td>\n",
              "    </tr>\n",
              "  </tbody>\n",
              "</table>\n",
              "</div>"
            ],
            "text/plain": [
              "                   total   percent\n",
              "merchantZip        21182  0.192406\n",
              "target                 0  0.000000\n",
              "availableCash          0  0.000000\n",
              "transactionAmount      0  0.000000\n",
              "posEntryMode           0  0.000000\n",
              "merchantCountry        0  0.000000\n",
              "mcc                    0  0.000000\n",
              "merchantId             0  0.000000\n",
              "accountNumber          0  0.000000\n",
              "eventId                0  0.000000\n",
              "transactionTime        0  0.000000"
            ]
          },
          "metadata": {
            "tags": []
          },
          "execution_count": 9
        }
      ]
    },
    {
      "cell_type": "markdown",
      "metadata": {
        "id": "wztCi8nPe7SL"
      },
      "source": [
        "###### Target Distribution"
      ]
    },
    {
      "cell_type": "code",
      "metadata": {
        "colab": {
          "base_uri": "https://localhost:8080/"
        },
        "id": "VyBeG5wdfFTP",
        "outputId": "258654ce-8622-4815-cb8f-e33a55c507e3"
      },
      "source": [
        "# proportion of fraud transactions\n",
        "train_data['target'].value_counts(normalize=True)"
      ],
      "execution_count": 10,
      "outputs": [
        {
          "output_type": "execute_result",
          "data": {
            "text/plain": [
              "0.0    0.992406\n",
              "1.0    0.007594\n",
              "Name: target, dtype: float64"
            ]
          },
          "metadata": {
            "tags": []
          },
          "execution_count": 10
        }
      ]
    },
    {
      "cell_type": "markdown",
      "metadata": {
        "id": "Ra7ybJt3fJva"
      },
      "source": [
        "- We are dealing with class imbalance"
      ]
    },
    {
      "cell_type": "markdown",
      "metadata": {
        "id": "MxHtNg5OfNqD"
      },
      "source": [
        "###### Total transactions per country"
      ]
    },
    {
      "cell_type": "code",
      "metadata": {
        "colab": {
          "base_uri": "https://localhost:8080/"
        },
        "id": "1ZGU3eDhf3gz",
        "outputId": "7d9fe39a-532c-462c-f581-a06631438f6c"
      },
      "source": [
        "train_data.groupby(['merchantCountry']).target.count().sort_values(ascending=False).head(5)"
      ],
      "execution_count": 13,
      "outputs": [
        {
          "output_type": "execute_result",
          "data": {
            "text/plain": [
              "merchantCountry\n",
              "826    88908\n",
              "442    13819\n",
              "840     2640\n",
              "372     1236\n",
              "250      429\n",
              "Name: target, dtype: int64"
            ]
          },
          "metadata": {
            "tags": []
          },
          "execution_count": 13
        }
      ]
    },
    {
      "cell_type": "markdown",
      "metadata": {
        "id": "3KO_pIyZgEpQ"
      },
      "source": [
        "We can see that most of the transactions come from Great Britain,\n",
        "since country code 826 = GB"
      ]
    },
    {
      "cell_type": "markdown",
      "metadata": {
        "id": "kwA-4LOzhE14"
      },
      "source": [
        "###### Zip Codes per country"
      ]
    },
    {
      "cell_type": "code",
      "metadata": {
        "colab": {
          "base_uri": "https://localhost:8080/",
          "height": 204
        },
        "id": "8pNuY3CpfSTB",
        "outputId": "dfbdc4a1-f865-4506-cd78-fed07ddf7741"
      },
      "source": [
        "# transform to uppercase as to avoid same values with different cases\n",
        "train_data['merchantZip'] = train_data['merchantZip'].str.upper()\n",
        "\n",
        "# getting unique countries values\n",
        "unique_countries = train_data['merchantCountry'].unique().tolist()\n",
        "\n",
        "# number of unique zip codes per country\n",
        "unique_zips = []\n",
        "for i in unique_countries:\n",
        "  unique_zips.append(len(train_data.loc[train_data['merchantCountry'] == i]['merchantZip'].unique()))\n",
        "\n",
        "temp_data = {\"country_code\": unique_countries, \"num_of_unique_zip_codes\": unique_zips}\n",
        "zip_codes_per_country_df = pd.DataFrame(temp_data)\n",
        "zip_codes_per_country_df.head(5)"
      ],
      "execution_count": 15,
      "outputs": [
        {
          "output_type": "execute_result",
          "data": {
            "text/html": [
              "<div>\n",
              "<style scoped>\n",
              "    .dataframe tbody tr th:only-of-type {\n",
              "        vertical-align: middle;\n",
              "    }\n",
              "\n",
              "    .dataframe tbody tr th {\n",
              "        vertical-align: top;\n",
              "    }\n",
              "\n",
              "    .dataframe thead th {\n",
              "        text-align: right;\n",
              "    }\n",
              "</style>\n",
              "<table border=\"1\" class=\"dataframe\">\n",
              "  <thead>\n",
              "    <tr style=\"text-align: right;\">\n",
              "      <th></th>\n",
              "      <th>country_code</th>\n",
              "      <th>num_of_unique_zip_codes</th>\n",
              "    </tr>\n",
              "  </thead>\n",
              "  <tbody>\n",
              "    <tr>\n",
              "      <th>0</th>\n",
              "      <td>826</td>\n",
              "      <td>3099</td>\n",
              "    </tr>\n",
              "    <tr>\n",
              "      <th>1</th>\n",
              "      <td>442</td>\n",
              "      <td>1</td>\n",
              "    </tr>\n",
              "    <tr>\n",
              "      <th>2</th>\n",
              "      <td>392</td>\n",
              "      <td>1</td>\n",
              "    </tr>\n",
              "    <tr>\n",
              "      <th>3</th>\n",
              "      <td>36</td>\n",
              "      <td>1</td>\n",
              "    </tr>\n",
              "    <tr>\n",
              "      <th>4</th>\n",
              "      <td>372</td>\n",
              "      <td>1</td>\n",
              "    </tr>\n",
              "  </tbody>\n",
              "</table>\n",
              "</div>"
            ],
            "text/plain": [
              "   country_code  num_of_unique_zip_codes\n",
              "0           826                     3099\n",
              "1           442                        1\n",
              "2           392                        1\n",
              "3            36                        1\n",
              "4           372                        1"
            ]
          },
          "metadata": {
            "tags": []
          },
          "execution_count": 15
        }
      ]
    },
    {
      "cell_type": "code",
      "metadata": {
        "colab": {
          "base_uri": "https://localhost:8080/"
        },
        "id": "1V92zphZhQCe",
        "outputId": "ababdc3c-6eb9-4097-d073-a9c03e183900"
      },
      "source": [
        "len(train_data['merchantZip'].unique())"
      ],
      "execution_count": 16,
      "outputs": [
        {
          "output_type": "execute_result",
          "data": {
            "text/plain": [
              "3100"
            ]
          },
          "metadata": {
            "tags": []
          },
          "execution_count": 16
        }
      ]
    },
    {
      "cell_type": "markdown",
      "metadata": {
        "id": "gPKWEIkahYBh"
      },
      "source": [
        "We can see that all merchant zip codes come from Great Britain, while zip codes from countries other than GB were not registered or are unknown."
      ]
    },
    {
      "cell_type": "markdown",
      "metadata": {
        "id": "3hJw96PghwaM"
      },
      "source": [
        "###### Taking a closer look at GB"
      ]
    },
    {
      "cell_type": "code",
      "metadata": {
        "colab": {
          "base_uri": "https://localhost:8080/"
        },
        "id": "_gEXX890hzXC",
        "outputId": "5bbc3a7c-6d18-48c9-e3a2-a5cc3abd9d3b"
      },
      "source": [
        "gb_data = train_data.loc[train_data['merchantCountry'] == 826]\n",
        "\n",
        "# total unique number of strings lengths for zip codes\n",
        "zip_lengths = len(gb_data['merchantZip'].str.len().value_counts().index.to_list())\n",
        "\n",
        "# number of unique zip code values based on their length\n",
        "for i in range(zip_lengths):\n",
        "  print(i+1, len(gb_data.loc[gb_data['merchantZip'].str.len() == i+1]['merchantZip'].unique()))"
      ],
      "execution_count": 36,
      "outputs": [
        {
          "output_type": "stream",
          "text": [
            "1 2\n",
            "2 4\n",
            "3 1087\n",
            "4 1263\n",
            "5 743\n"
          ],
          "name": "stdout"
        }
      ]
    },
    {
      "cell_type": "markdown",
      "metadata": {
        "id": "153MpnkGknnK"
      },
      "source": [
        "Note: After searching on web, Zip code length for GB is: zip_code_len >= 3"
      ]
    },
    {
      "cell_type": "markdown",
      "metadata": {
        "id": "5B-hDPjZlSIT"
      },
      "source": [
        "###### Invalid Zip codes, based on zip_code_len < 3"
      ]
    },
    {
      "cell_type": "code",
      "metadata": {
        "colab": {
          "base_uri": "https://localhost:8080/"
        },
        "id": "JzwpKckzlcLV",
        "outputId": "ccf49912-bc31-4639-f2df-f98728a83560"
      },
      "source": [
        "gb_data[gb_data['merchantZip'].str.len() < 3]['merchantZip'].unique().tolist()"
      ],
      "execution_count": 37,
      "outputs": [
        {
          "output_type": "execute_result",
          "data": {
            "text/plain": [
              "['0', 'NI', 'F', 'MK', '**', '..']"
            ]
          },
          "metadata": {
            "tags": []
          },
          "execution_count": 37
        }
      ]
    }
  ]
}